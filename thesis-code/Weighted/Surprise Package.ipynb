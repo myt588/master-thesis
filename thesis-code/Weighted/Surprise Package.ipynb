{
 "cells": [
  {
   "cell_type": "code",
   "execution_count": 12,
   "metadata": {
    "collapsed": true
   },
   "outputs": [],
   "source": [
    "import pandas as pd\n",
    "\n",
    "from surprise import SVD\n",
    "from surprise import SVDpp\n",
    "from surprise import NMF\n",
    "from surprise import SlopeOne\n",
    "from surprise import CoClustering\n",
    "from surprise import KNNBasic\n",
    "from surprise import KNNWithMeans\n",
    "from surprise import KNNWithZScore\n",
    "from surprise import KNNBaseline\n",
    "from surprise import NormalPredictor\n",
    "from surprise import BaselineOnly\n",
    "from surprise import Dataset\n",
    "from surprise import Reader\n",
    "from surprise.model_selection import train_test_split\n",
    "from surprise import accuracy\n",
    "from sklearn.metrics import r2_score\n",
    "import matplotlib.pyplot as plt"
   ]
  },
  {
   "cell_type": "code",
   "execution_count": null,
   "metadata": {},
   "outputs": [],
   "source": [
    "rec_df = pd.read_csv('rec-with-percentage-1.csv')\n",
    "rec_df = rec_df.sample(frac=1).reset_index(drop=True)\n",
    "print(rec_df.shape)\n",
    "\n",
    "# A reader is still needed but only the rating_scale param is requiered.\n",
    "reader = Reader(rating_scale=(0, 1))\n",
    "\n",
    "# The columns must correspond to user id, item id and ratings (in that order).\n",
    "data = Dataset.load_from_df(rec_df[['user_id', 'reading_id', 'relative_difficulty']], reader)\n",
    "\n",
    "algos = [\n",
    "    SVD(), SVDpp(), NMF(), SlopeOne(), CoClustering(), \n",
    "    KNNBasic(), KNNWithMeans(), KNNWithZScore(), KNNBaseline(), NormalPredictor(), BaselineOnly()\n",
    "]\n",
    "\n",
    "for algo in algos:\n",
    "    # We can now use this dataset as we please, e.g. calling cross_validate\n",
    "    cross_validate(algo, data, measures=['RMSE', 'MAE'], cv=5, verbose=True)"
   ]
  },
  {
   "cell_type": "code",
   "execution_count": null,
   "metadata": {
    "collapsed": true
   },
   "outputs": [],
   "source": [
    "def draw_graph(predictions):\n",
    "    preds = []\n",
    "    for i in range(0, len(predictions)):\n",
    "        preds.append([predictions[i].r_ui, predictions[i].uid, predictions[i].iid, predictions[i].est])\n",
    "    df = pd.DataFrame(preds)\n",
    "    plt.scatter(df.iloc[:,1], df.iloc[:,0])\n",
    "    plt.scatter(df.iloc[:,1], df.iloc[:,3], c='red')\n",
    "    plt.xlabel('user id')\n",
    "    plt.ylabel('relative difficulty')\n",
    "    plt.show()"
   ]
  },
  {
   "cell_type": "markdown",
   "metadata": {},
   "source": [
    "### percentage of interval ex: 10%"
   ]
  },
  {
   "cell_type": "code",
   "execution_count": 33,
   "metadata": {},
   "outputs": [
    {
     "name": "stdout",
     "output_type": "stream",
     "text": [
      "Computing the msd similarity matrix...\n",
      "Done computing similarity matrix.\n",
      "RMSE: 0.0155\n",
      "FCP:  0.6227\n",
      "5 percent interval: 18.97%\n",
      "10 percent interval: 43.33%\n",
      "[Prediction(uid=202, iid=0, r_ui=0.0, est=8.1647661494654855e-05, details={'actual_k': 40, 'was_impossible': False}), Prediction(uid=121, iid=1, r_ui=0.0, est=0.014651124448998631, details={'actual_k': 40, 'was_impossible': False}), Prediction(uid=94, iid=4, r_ui=0.033175355450236976, est=0.017761425815115084, details={'actual_k': 40, 'was_impossible': False}), Prediction(uid=176, iid=2, r_ui=0.02127659574468077, est=0.007787549536274474, details={'actual_k': 40, 'was_impossible': False}), Prediction(uid=176, iid=6, r_ui=0.024271844660194164, est=0.011735373004261085, details={'actual_k': 40, 'was_impossible': False}), Prediction(uid=58, iid=0, r_ui=0.02499999999999991, est=0.025165296698752115, details={'actual_k': 40, 'was_impossible': False}), Prediction(uid=40, iid=2, r_ui=0.014184397163120588, est=0.037579918374683885, details={'actual_k': 40, 'was_impossible': False}), Prediction(uid=127, iid=6, r_ui=0.01941747572815533, est=0.02293941797599186, details={'actual_k': 40, 'was_impossible': False}), Prediction(uid=171, iid=3, r_ui=0.0, est=0.0047281102276230946, details={'actual_k': 40, 'was_impossible': False}), Prediction(uid=21, iid=6, r_ui=0.0, est=0.0059135959565741469, details={'actual_k': 40, 'was_impossible': False}), Prediction(uid=234, iid=1, r_ui=0.025974025974025983, est=0.012524282505907536, details={'actual_k': 40, 'was_impossible': False}), Prediction(uid=65, iid=3, r_ui=0.01775147928994092, est=0.009963106786718523, details={'actual_k': 40, 'was_impossible': False}), Prediction(uid=132, iid=6, r_ui=0.03883495145631066, est=0.015198917158182557, details={'actual_k': 40, 'was_impossible': False}), Prediction(uid=231, iid=0, r_ui=0.02499999999999991, est=0.0068932919190616282, details={'actual_k': 40, 'was_impossible': False}), Prediction(uid=87, iid=4, r_ui=0.042654028436019065, est=0.014500276068007967, details={'actual_k': 40, 'was_impossible': False}), Prediction(uid=100, iid=5, r_ui=0.010810810810810922, est=0.011730502544629262, details={'actual_k': 40, 'was_impossible': False}), Prediction(uid=105, iid=4, r_ui=0.018957345971563955, est=0.017667929293690987, details={'actual_k': 40, 'was_impossible': False}), Prediction(uid=170, iid=4, r_ui=0.0, est=0.0048292647030891978, details={'actual_k': 40, 'was_impossible': False}), Prediction(uid=203, iid=4, r_ui=0.02499999999999991, est=0.0065859658074010063, details={'actual_k': 40, 'was_impossible': False}), Prediction(uid=96, iid=3, r_ui=0.041420118343195256, est=0.025879303806376486, details={'actual_k': 40, 'was_impossible': False}), Prediction(uid=211, iid=1, r_ui=0.0, est=0, details={'actual_k': 40, 'was_impossible': False}), Prediction(uid=153, iid=3, r_ui=0.01775147928994092, est=0.022829926318697069, details={'actual_k': 40, 'was_impossible': False}), Prediction(uid=218, iid=2, r_ui=0.029126213592232997, est=0.0030737720117473, details={'actual_k': 40, 'was_impossible': False}), Prediction(uid=187, iid=5, r_ui=0.021621621621621623, est=0.0083641157523244303, details={'actual_k': 40, 'was_impossible': False}), Prediction(uid=210, iid=4, r_ui=0.0, est=0.0048292647030891978, details={'actual_k': 40, 'was_impossible': False}), Prediction(uid=82, iid=3, r_ui=0.0, est=0.015692919524784577, details={'actual_k': 40, 'was_impossible': False}), Prediction(uid=123, iid=3, r_ui=0.01183431952662728, est=0.012173300335722503, details={'actual_k': 40, 'was_impossible': False}), Prediction(uid=109, iid=0, r_ui=0.0, est=0.02406193463959716, details={'actual_k': 40, 'was_impossible': False}), Prediction(uid=39, iid=1, r_ui=0.01298701298701288, est=0.0070803832169870073, details={'actual_k': 40, 'was_impossible': False}), Prediction(uid=222, iid=1, r_ui=0.00540540540540535, est=0.00203604553477299, details={'actual_k': 40, 'was_impossible': False}), Prediction(uid=117, iid=3, r_ui=0.047337278106508895, est=0.032620300957908244, details={'actual_k': 40, 'was_impossible': False}), Prediction(uid=42, iid=5, r_ui=0.07567567567567579, est=0.028991222279462603, details={'actual_k': 40, 'was_impossible': False}), Prediction(uid=140, iid=3, r_ui=0.01183431952662728, est=0.012925893447872649, details={'actual_k': 40, 'was_impossible': False}), Prediction(uid=190, iid=0, r_ui=0.0, est=0.0050434634228140318, details={'actual_k': 40, 'was_impossible': False}), Prediction(uid=11, iid=4, r_ui=0.0, est=0.0048292647030891978, details={'actual_k': 40, 'was_impossible': False}), Prediction(uid=74, iid=1, r_ui=0.025974025974025983, est=0.040225216985230183, details={'actual_k': 40, 'was_impossible': False}), Prediction(uid=29, iid=4, r_ui=0.028436018957346043, est=0.017099870217035074, details={'actual_k': 40, 'was_impossible': False}), Prediction(uid=177, iid=3, r_ui=0.00591715976331364, est=0.011763247922358389, details={'actual_k': 40, 'was_impossible': False}), Prediction(uid=28, iid=5, r_ui=0.00540540540540535, est=0.0033206096730291623, details={'actual_k': 40, 'was_impossible': False}), Prediction(uid=135, iid=0, r_ui=0.0, est=0.0041880851277613651, details={'actual_k': 40, 'was_impossible': False}), Prediction(uid=158, iid=4, r_ui=0.0, est=0.030459976177974912, details={'actual_k': 40, 'was_impossible': False}), Prediction(uid=82, iid=4, r_ui=0.023696682464454888, est=0.015769973239246893, details={'actual_k': 40, 'was_impossible': False}), Prediction(uid=122, iid=5, r_ui=0.016216216216216273, est=0.0079188563693637359, details={'actual_k': 40, 'was_impossible': False}), Prediction(uid=27, iid=4, r_ui=0.0, est=0.0048292647030891978, details={'actual_k': 40, 'was_impossible': False}), Prediction(uid=24, iid=2, r_ui=0.007092198581560183, est=0.014577816333420035, details={'actual_k': 40, 'was_impossible': False}), Prediction(uid=144, iid=2, r_ui=0.02127659574468077, est=0.012571066582696133, details={'actual_k': 40, 'was_impossible': False}), Prediction(uid=218, iid=6, r_ui=0.0, est=0.0088537815441271928, details={'actual_k': 40, 'was_impossible': False}), Prediction(uid=215, iid=2, r_ui=0.0, est=0.0090275928789493864, details={'actual_k': 40, 'was_impossible': False}), Prediction(uid=170, iid=6, r_ui=0.0, est=0.0059135959565741469, details={'actual_k': 40, 'was_impossible': False}), Prediction(uid=105, iid=3, r_ui=0.029585798816567976, est=0.017595624937701837, details={'actual_k': 40, 'was_impossible': False}), Prediction(uid=196, iid=2, r_ui=0.0, est=0.0049782947656527021, details={'actual_k': 40, 'was_impossible': False}), Prediction(uid=194, iid=0, r_ui=0.0, est=0.014882078031697166, details={'actual_k': 40, 'was_impossible': False}), Prediction(uid=66, iid=0, r_ui=0.02499999999999991, est=0.004147388196808377, details={'actual_k': 40, 'was_impossible': False}), Prediction(uid=61, iid=3, r_ui=0.035502958579881616, est=0.063182644358504625, details={'actual_k': 40, 'was_impossible': False}), Prediction(uid=118, iid=3, r_ui=0.029585798816567976, est=0.016127232212834741, details={'actual_k': 40, 'was_impossible': False}), Prediction(uid=69, iid=4, r_ui=0.018957345971563955, est=0.039781153128400248, details={'actual_k': 40, 'was_impossible': False}), Prediction(uid=195, iid=1, r_ui=0.0, est=0, details={'actual_k': 40, 'was_impossible': False}), Prediction(uid=124, iid=2, r_ui=0.014184397163120588, est=0.012354873851805781, details={'actual_k': 40, 'was_impossible': False}), Prediction(uid=19, iid=6, r_ui=0.0, est=0.0025293198581652909, details={'actual_k': 40, 'was_impossible': False}), Prediction(uid=46, iid=5, r_ui=0.010810810810810922, est=0.023177203030539717, details={'actual_k': 40, 'was_impossible': False}), Prediction(uid=202, iid=5, r_ui=0.0, est=0.0056855245873199678, details={'actual_k': 40, 'was_impossible': False}), Prediction(uid=205, iid=4, r_ui=0.0, est=0.02171797846199075, details={'actual_k': 40, 'was_impossible': False}), Prediction(uid=19, iid=2, r_ui=0.0, est=0.0010939547519834836, details={'actual_k': 40, 'was_impossible': False}), Prediction(uid=175, iid=6, r_ui=0.03398058252427183, est=0.00906309007052708, details={'actual_k': 40, 'was_impossible': False}), Prediction(uid=58, iid=3, r_ui=0.059171597633136175, est=0.04167309732064628, details={'actual_k': 40, 'was_impossible': False}), Prediction(uid=46, iid=0, r_ui=0.0, est=0.021984114039859781, details={'actual_k': 40, 'was_impossible': False}), Prediction(uid=99, iid=1, r_ui=0.025974025974025983, est=0.00092122996655641387, details={'actual_k': 40, 'was_impossible': False}), Prediction(uid=78, iid=1, r_ui=0.0, est=0.0026212731036234782, details={'actual_k': 40, 'was_impossible': False}), Prediction(uid=120, iid=5, r_ui=0.027027027027026973, est=0.014442945256660344, details={'actual_k': 40, 'was_impossible': False}), Prediction(uid=147, iid=0, r_ui=0.0, est=0.0061104898513333339, details={'actual_k': 40, 'was_impossible': False}), Prediction(uid=67, iid=1, r_ui=0.0, est=0.0043684724255605989, details={'actual_k': 40, 'was_impossible': False}), Prediction(uid=210, iid=1, r_ui=0.0, est=0, details={'actual_k': 40, 'was_impossible': False}), Prediction(uid=173, iid=1, r_ui=0.0, est=0.0035683462026840918, details={'actual_k': 40, 'was_impossible': False}), Prediction(uid=136, iid=4, r_ui=0.014218009478673022, est=0.011142225676011641, details={'actual_k': 40, 'was_impossible': False}), Prediction(uid=42, iid=4, r_ui=0.018957345971563955, est=0.029011630354187412, details={'actual_k': 40, 'was_impossible': False}), Prediction(uid=162, iid=1, r_ui=0.0, est=0.0037436143588904791, details={'actual_k': 40, 'was_impossible': False}), Prediction(uid=26, iid=0, r_ui=0.0, est=0.0011304491298145258, details={'actual_k': 40, 'was_impossible': False}), Prediction(uid=116, iid=1, r_ui=0.0, est=0, details={'actual_k': 40, 'was_impossible': False}), Prediction(uid=95, iid=4, r_ui=0.033175355450236976, est=0.034294943899332297, details={'actual_k': 40, 'was_impossible': False}), Prediction(uid=2, iid=0, r_ui=0.050000000000000044, est=0.022910931820892877, details={'actual_k': 40, 'was_impossible': False}), Prediction(uid=67, iid=0, r_ui=0.0, est=0.0033395959945137221, details={'actual_k': 40, 'was_impossible': False}), Prediction(uid=34, iid=1, r_ui=0.0, est=0.0096830297409407073, details={'actual_k': 40, 'was_impossible': False}), Prediction(uid=221, iid=2, r_ui=0.0, est=0, details={'actual_k': 40, 'was_impossible': False}), Prediction(uid=61, iid=0, r_ui=0.02499999999999991, est=0.046296415786772682, details={'actual_k': 40, 'was_impossible': False}), Prediction(uid=14, iid=0, r_ui=0.02499999999999991, est=0.014741975266565621, details={'actual_k': 40, 'was_impossible': False}), Prediction(uid=95, iid=6, r_ui=0.043689320388349495, est=0.035595085205691435, details={'actual_k': 40, 'was_impossible': False}), Prediction(uid=145, iid=1, r_ui=0.01298701298701288, est=0.024960821715861892, details={'actual_k': 40, 'was_impossible': False}), Prediction(uid=130, iid=1, r_ui=0.0, est=0, details={'actual_k': 40, 'was_impossible': False}), Prediction(uid=177, iid=1, r_ui=0.0, est=0.006443317455240738, details={'actual_k': 40, 'was_impossible': False}), Prediction(uid=213, iid=4, r_ui=0.10000000000000009, est=0.080581553514794457, details={'actual_k': 40, 'was_impossible': False}), Prediction(uid=33, iid=6, r_ui=0.004854368932038833, est=0.012936999853353504, details={'actual_k': 40, 'was_impossible': False}), Prediction(uid=164, iid=1, r_ui=0.025974025974025983, est=0.0012731052319687741, details={'actual_k': 40, 'was_impossible': False}), Prediction(uid=140, iid=6, r_ui=0.01941747572815533, est=0.013689304311904626, details={'actual_k': 40, 'was_impossible': False}), Prediction(uid=109, iid=5, r_ui=0.043243243243243246, est=0.026014529107627693, details={'actual_k': 40, 'was_impossible': False}), Prediction(uid=136, iid=3, r_ui=0.023668639053254337, est=0.011090998986205358, details={'actual_k': 40, 'was_impossible': False}), Prediction(uid=208, iid=4, r_ui=0.00540540540540535, est=0.021305265642651117, details={'actual_k': 40, 'was_impossible': False}), Prediction(uid=79, iid=6, r_ui=0.043689320388349495, est=0.012302317431103882, details={'actual_k': 40, 'was_impossible': False}), Prediction(uid=40, iid=4, r_ui=0.03791469194312791, est=0.048846238399720798, details={'actual_k': 40, 'was_impossible': False}), Prediction(uid=207, iid=4, r_ui=0.021621621621621623, est=0.036951046811068977, details={'actual_k': 40, 'was_impossible': False}), Prediction(uid=148, iid=0, r_ui=0.0, est=0.020187288040674822, details={'actual_k': 40, 'was_impossible': False}), Prediction(uid=124, iid=0, r_ui=0.0, est=0.0040668172534004121, details={'actual_k': 40, 'was_impossible': False}), Prediction(uid=176, iid=4, r_ui=0.014218009478673022, est=0.011545891780526674, details={'actual_k': 40, 'was_impossible': False}), Prediction(uid=171, iid=6, r_ui=0.004854368932038833, est=0.0059135959565741469, details={'actual_k': 40, 'was_impossible': False}), Prediction(uid=120, iid=4, r_ui=0.028436018957346043, est=0.014464400805606514, details={'actual_k': 40, 'was_impossible': False}), Prediction(uid=28, iid=4, r_ui=0.014218009478673022, est=0.0033268332570830506, details={'actual_k': 40, 'was_impossible': False}), Prediction(uid=162, iid=3, r_ui=0.01183431952662728, est=0.0088719367911869185, details={'actual_k': 40, 'was_impossible': False}), Prediction(uid=179, iid=3, r_ui=0.01775147928994092, est=0.011789017064326446, details={'actual_k': 40, 'was_impossible': False}), Prediction(uid=218, iid=5, r_ui=0.0, est=0.008293114186007422, details={'actual_k': 40, 'was_impossible': False}), Prediction(uid=201, iid=6, r_ui=0.0, est=0.0059135959565741469, details={'actual_k': 40, 'was_impossible': False}), Prediction(uid=28, iid=1, r_ui=0.0, est=0.0010803387998827851, details={'actual_k': 40, 'was_impossible': False}), Prediction(uid=213, iid=3, r_ui=0.08284023668639051, est=0.080443251706679986, details={'actual_k': 40, 'was_impossible': False}), Prediction(uid=115, iid=6, r_ui=0.043689320388349495, est=0.053130805223084776, details={'actual_k': 40, 'was_impossible': False}), Prediction(uid=45, iid=5, r_ui=0.027027027027026973, est=0.046885813769670381, details={'actual_k': 40, 'was_impossible': False}), Prediction(uid=16, iid=2, r_ui=0.0, est=0, details={'actual_k': 40, 'was_impossible': False}), Prediction(uid=166, iid=5, r_ui=0.010810810810810922, est=0.023879405511607388, details={'actual_k': 40, 'was_impossible': False}), Prediction(uid=15, iid=1, r_ui=0.025974025974025983, est=0.0035467070778412157, details={'actual_k': 40, 'was_impossible': False}), Prediction(uid=71, iid=1, r_ui=0.01298701298701288, est=0.018596229196374381, details={'actual_k': 40, 'was_impossible': False}), Prediction(uid=83, iid=5, r_ui=0.021621621621621623, est=0.042628776882707164, details={'actual_k': 40, 'was_impossible': False}), Prediction(uid=160, iid=5, r_ui=0.010810810810810922, est=0.011784237828334598, details={'actual_k': 40, 'was_impossible': False}), Prediction(uid=238, iid=2, r_ui=0.028436018957346043, est=0.015418631289700224, details={'actual_k': 40, 'was_impossible': False}), Prediction(uid=30, iid=6, r_ui=0.0, est=0.0059135959565741469, details={'actual_k': 40, 'was_impossible': False}), Prediction(uid=122, iid=3, r_ui=0.029585798816567976, est=0.0080071957356813162, details={'actual_k': 40, 'was_impossible': False}), Prediction(uid=192, iid=3, r_ui=0.01775147928994092, est=0.0084852852542736112, details={'actual_k': 40, 'was_impossible': False}), Prediction(uid=161, iid=6, r_ui=0.01941747572815533, est=0.0091849617936083927, details={'actual_k': 40, 'was_impossible': False}), Prediction(uid=144, iid=5, r_ui=0.037837837837837895, est=0.020552421767771722, details={'actual_k': 40, 'was_impossible': False}), Prediction(uid=85, iid=2, r_ui=0.049645390070921946, est=0.020571905872271534, details={'actual_k': 40, 'was_impossible': False}), Prediction(uid=90, iid=2, r_ui=0.02127659574468077, est=0.0073451039559349063, details={'actual_k': 40, 'was_impossible': False}), Prediction(uid=147, iid=5, r_ui=0.016216216216216273, est=0.01416164099278916, details={'actual_k': 40, 'was_impossible': False}), Prediction(uid=132, iid=5, r_ui=0.021621621621621623, est=0.014510886852365124, details={'actual_k': 40, 'was_impossible': False}), Prediction(uid=146, iid=2, r_ui=0.007092198581560183, est=0.011301154436620608, details={'actual_k': 40, 'was_impossible': False}), Prediction(uid=182, iid=0, r_ui=0.02499999999999991, est=0.004078661671648165, details={'actual_k': 40, 'was_impossible': False}), Prediction(uid=184, iid=6, r_ui=0.014563106796116498, est=0.028798807873494869, details={'actual_k': 40, 'was_impossible': False}), Prediction(uid=77, iid=4, r_ui=0.009478672985782088, est=0.0055223360232166119, details={'actual_k': 40, 'was_impossible': False}), Prediction(uid=130, iid=6, r_ui=0.0, est=0.0059135959565741469, details={'actual_k': 40, 'was_impossible': False}), Prediction(uid=19, iid=0, r_ui=0.0, est=0, details={'actual_k': 40, 'was_impossible': False}), Prediction(uid=151, iid=0, r_ui=0.0, est=0.0017040944187918239, details={'actual_k': 40, 'was_impossible': False}), Prediction(uid=115, iid=0, r_ui=0.0, est=0.01468840151676698, details={'actual_k': 40, 'was_impossible': False}), Prediction(uid=19, iid=4, r_ui=0.004739336492890933, est=0.0023959203882348845, details={'actual_k': 40, 'was_impossible': False}), Prediction(uid=150, iid=2, r_ui=0.0, est=0.0085569844291701891, details={'actual_k': 40, 'was_impossible': False}), Prediction(uid=56, iid=2, r_ui=0.042553191489361764, est=0.039557204328110274, details={'actual_k': 40, 'was_impossible': False}), Prediction(uid=176, iid=3, r_ui=0.029585798816567976, est=0.011334244246398173, details={'actual_k': 40, 'was_impossible': False}), Prediction(uid=46, iid=1, r_ui=0.0, est=0.022207925801042139, details={'actual_k': 40, 'was_impossible': False}), Prediction(uid=48, iid=4, r_ui=0.023696682464454888, est=0.029388889278587627, details={'actual_k': 40, 'was_impossible': False}), Prediction(uid=90, iid=1, r_ui=0.0, est=0.0052692464736048272, details={'actual_k': 40, 'was_impossible': False}), Prediction(uid=15, iid=6, r_ui=0.014563106796116498, est=0.011319195699527329, details={'actual_k': 40, 'was_impossible': False}), Prediction(uid=29, iid=2, r_ui=0.0, est=0.012137463374322977, details={'actual_k': 40, 'was_impossible': False}), Prediction(uid=148, iid=6, r_ui=0.01941747572815533, est=0.031041292920919838, details={'actual_k': 40, 'was_impossible': False}), Prediction(uid=67, iid=5, r_ui=0.0, est=0.0086069801388342082, details={'actual_k': 40, 'was_impossible': False}), Prediction(uid=15, iid=3, r_ui=0.035502958579881616, est=0.010579441055047933, details={'actual_k': 40, 'was_impossible': False}), Prediction(uid=158, iid=0, r_ui=0.0, est=0.0036262515105938142, details={'actual_k': 40, 'was_impossible': False}), Prediction(uid=212, iid=3, r_ui=0.0, est=0.0062934902477882471, details={'actual_k': 40, 'was_impossible': False}), Prediction(uid=109, iid=2, r_ui=0.02127659574468077, est=0.025073974311454972, details={'actual_k': 40, 'was_impossible': False}), Prediction(uid=20, iid=4, r_ui=0.03791469194312791, est=0.013135825292770464, details={'actual_k': 40, 'was_impossible': False}), Prediction(uid=134, iid=6, r_ui=0.05339805825242716, est=0.010412379670709848, details={'actual_k': 40, 'was_impossible': False}), Prediction(uid=231, iid=5, r_ui=0.009478672985782088, est=0.017591801644978089, details={'actual_k': 40, 'was_impossible': False}), Prediction(uid=97, iid=4, r_ui=0.018957345971563955, est=0.016362441944248518, details={'actual_k': 40, 'was_impossible': False}), Prediction(uid=145, iid=5, r_ui=0.05945945945945952, est=0.048205136259329651, details={'actual_k': 40, 'was_impossible': False}), Prediction(uid=114, iid=1, r_ui=0.0, est=0.018275250518627661, details={'actual_k': 40, 'was_impossible': False}), Prediction(uid=60, iid=3, r_ui=0.06508875739644981, est=0.054057747282952207, details={'actual_k': 40, 'was_impossible': False}), Prediction(uid=153, iid=6, r_ui=0.009708737864077666, est=0.023627559614468607, details={'actual_k': 40, 'was_impossible': False}), Prediction(uid=115, iid=1, r_ui=0.01298701298701288, est=0.024535772784423315, details={'actual_k': 40, 'was_impossible': False}), Prediction(uid=150, iid=5, r_ui=0.032432432432432545, est=0.014111009128010776, details={'actual_k': 40, 'was_impossible': False}), Prediction(uid=112, iid=2, r_ui=0.0, est=0.015815943953143785, details={'actual_k': 40, 'was_impossible': False}), Prediction(uid=90, iid=4, r_ui=0.023696682464454888, est=0.010709272728815611, details={'actual_k': 40, 'was_impossible': False}), Prediction(uid=131, iid=2, r_ui=0.0, est=0.0097342797110018253, details={'actual_k': 40, 'was_impossible': False}), Prediction(uid=58, iid=6, r_ui=0.06310679611650483, est=0.042570048101132851, details={'actual_k': 40, 'was_impossible': False}), Prediction(uid=232, iid=0, r_ui=0.02127659574468077, est=0.018580316337305725, details={'actual_k': 40, 'was_impossible': False}), Prediction(uid=165, iid=5, r_ui=0.037837837837837895, est=0.020379668125679595, details={'actual_k': 40, 'was_impossible': False}), Prediction(uid=166, iid=0, r_ui=0.0, est=0.016570944648210517, details={'actual_k': 40, 'was_impossible': False}), Prediction(uid=154, iid=2, r_ui=0.049645390070921946, est=0.014727611078007463, details={'actual_k': 40, 'was_impossible': False}), Prediction(uid=209, iid=6, r_ui=0.0, est=0.0059135959565741469, details={'actual_k': 40, 'was_impossible': False}), Prediction(uid=227, iid=6, r_ui=0.0, est=0.0059135959565741469, details={'actual_k': 40, 'was_impossible': False}), Prediction(uid=36, iid=0, r_ui=0.050000000000000044, est=0.034624316290075674, details={'actual_k': 40, 'was_impossible': False}), Prediction(uid=14, iid=6, r_ui=0.009708737864077666, est=0.024150397727545903, details={'actual_k': 40, 'was_impossible': False}), Prediction(uid=230, iid=3, r_ui=0.0, est=0.0047281102276230946, details={'actual_k': 40, 'was_impossible': False}), Prediction(uid=46, iid=6, r_ui=0.004854368932038833, est=0.023204489896276215, details={'actual_k': 40, 'was_impossible': False}), Prediction(uid=114, iid=5, r_ui=0.048648648648648596, est=0.024591348480439867, details={'actual_k': 40, 'was_impossible': False}), Prediction(uid=73, iid=4, r_ui=0.03791469194312791, est=0.056154100337103108, details={'actual_k': 40, 'was_impossible': False}), Prediction(uid=76, iid=5, r_ui=0.0, est=0.0042405762076285214, details={'actual_k': 40, 'was_impossible': False}), Prediction(uid=229, iid=2, r_ui=0.0, est=0, details={'actual_k': 40, 'was_impossible': False}), Prediction(uid=66, iid=4, r_ui=0.03791469194312791, est=0.01768972077043407, details={'actual_k': 40, 'was_impossible': False}), Prediction(uid=209, iid=5, r_ui=0.0, est=0.0047818551543208354, details={'actual_k': 40, 'was_impossible': False}), Prediction(uid=225, iid=5, r_ui=0.021621621621621623, est=0.017450415340348524, details={'actual_k': 40, 'was_impossible': False}), Prediction(uid=162, iid=4, r_ui=0.004739336492890933, est=0.010451917776914676, details={'actual_k': 40, 'was_impossible': False}), Prediction(uid=98, iid=4, r_ui=0.03791469194312791, est=0.024635823996498774, details={'actual_k': 40, 'was_impossible': False}), Prediction(uid=50, iid=5, r_ui=0.037837837837837895, est=0.082381092759256092, details={'actual_k': 40, 'was_impossible': False}), Prediction(uid=70, iid=0, r_ui=0.0, est=0, details={'actual_k': 40, 'was_impossible': False}), Prediction(uid=183, iid=6, r_ui=0.024271844660194164, est=0.0066852316875447571, details={'actual_k': 40, 'was_impossible': False}), Prediction(uid=101, iid=1, r_ui=0.0, est=0.011576561356170245, details={'actual_k': 40, 'was_impossible': False}), Prediction(uid=216, iid=4, r_ui=0.00591715976331364, est=0.014083535329020069, details={'actual_k': 40, 'was_impossible': False}), Prediction(uid=66, iid=5, r_ui=0.021621621621621623, est=0.017660429816684031, details={'actual_k': 40, 'was_impossible': False}), Prediction(uid=110, iid=0, r_ui=0.0, est=0, details={'actual_k': 40, 'was_impossible': False}), Prediction(uid=202, iid=3, r_ui=0.014184397163120588, est=0.0056717543748809884, details={'actual_k': 40, 'was_impossible': False}), Prediction(uid=169, iid=1, r_ui=0.0, est=0.0040049985710772784, details={'actual_k': 40, 'was_impossible': False}), Prediction(uid=155, iid=2, r_ui=0.014184397163120588, est=0.012469935873307803, details={'actual_k': 40, 'was_impossible': False}), Prediction(uid=199, iid=2, r_ui=0.0, est=0.010152090353915844, details={'actual_k': 40, 'was_impossible': False}), Prediction(uid=118, iid=6, r_ui=0.014563106796116498, est=0.01742018133830836, details={'actual_k': 40, 'was_impossible': False}), Prediction(uid=6, iid=5, r_ui=0.032432432432432545, est=0.034356189488761402, details={'actual_k': 40, 'was_impossible': False}), Prediction(uid=167, iid=2, r_ui=0.007092198581560183, est=0.0082608817111160526, details={'actual_k': 40, 'was_impossible': False}), Prediction(uid=38, iid=1, r_ui=0.025974025974025983, est=0.019078031714793164, details={'actual_k': 40, 'was_impossible': False}), Prediction(uid=151, iid=3, r_ui=0.0, est=0.0077045044762507064, details={'actual_k': 40, 'was_impossible': False}), Prediction(uid=150, iid=3, r_ui=0.00591715976331364, est=0.014575684606958905, details={'actual_k': 40, 'was_impossible': False}), Prediction(uid=134, iid=0, r_ui=0.0, est=0.004429512830833815, details={'actual_k': 40, 'was_impossible': False}), Prediction(uid=216, iid=0, r_ui=0.0, est=0.0078780285281736528, details={'actual_k': 40, 'was_impossible': False}), Prediction(uid=56, iid=5, r_ui=0.016216216216216273, est=0.046781042943330631, details={'actual_k': 40, 'was_impossible': False}), Prediction(uid=12, iid=6, r_ui=0.029126213592232997, est=0.029619511584731084, details={'actual_k': 40, 'was_impossible': False}), Prediction(uid=64, iid=5, r_ui=0.021621621621621623, est=0.0078096725804686074, details={'actual_k': 40, 'was_impossible': False}), Prediction(uid=26, iid=6, r_ui=0.0, est=0.011436353628592189, details={'actual_k': 40, 'was_impossible': False}), Prediction(uid=189, iid=5, r_ui=0.0, est=0.0047818551543208354, details={'actual_k': 40, 'was_impossible': False}), Prediction(uid=4, iid=6, r_ui=0.009708737864077666, est=0.012395294161778203, details={'actual_k': 40, 'was_impossible': False}), Prediction(uid=210, iid=5, r_ui=0.0, est=0.0047818551543208354, details={'actual_k': 40, 'was_impossible': False}), Prediction(uid=63, iid=4, r_ui=0.018957345971563955, est=0.017133391792616859, details={'actual_k': 40, 'was_impossible': False}), Prediction(uid=236, iid=2, r_ui=0.029126213592232997, est=0.014699191067438999, details={'actual_k': 40, 'was_impossible': False}), Prediction(uid=190, iid=4, r_ui=0.04739336492891, est=0.037213307207960566, details={'actual_k': 40, 'was_impossible': False}), Prediction(uid=35, iid=2, r_ui=0.0851063829787233, est=0.053986412348141943, details={'actual_k': 40, 'was_impossible': False}), Prediction(uid=112, iid=0, r_ui=0.0, est=0.0090876971725604161, details={'actual_k': 40, 'was_impossible': False}), Prediction(uid=93, iid=1, r_ui=0.0, est=0.0037355498575879498, details={'actual_k': 40, 'was_impossible': False}), Prediction(uid=221, iid=1, r_ui=0.0, est=0, details={'actual_k': 40, 'was_impossible': False}), Prediction(uid=142, iid=4, r_ui=0.014218009478673022, est=0.010187366854280677, details={'actual_k': 40, 'was_impossible': False}), Prediction(uid=134, iid=5, r_ui=0.0, est=0.010128685694619222, details={'actual_k': 40, 'was_impossible': False}), Prediction(uid=155, iid=0, r_ui=0.0, est=0.0050011140843986279, details={'actual_k': 40, 'was_impossible': False}), Prediction(uid=98, iid=2, r_ui=0.028368794326241176, est=0.020844638365651758, details={'actual_k': 40, 'was_impossible': False}), Prediction(uid=208, iid=3, r_ui=0.0, est=0.020652500905530058, details={'actual_k': 40, 'was_impossible': False}), Prediction(uid=174, iid=3, r_ui=0.00591715976331364, est=0.024615366611923983, details={'actual_k': 40, 'was_impossible': False}), Prediction(uid=150, iid=1, r_ui=0.0, est=0.004628351489352367, details={'actual_k': 40, 'was_impossible': False}), Prediction(uid=84, iid=0, r_ui=0.0, est=0.0081808204580502419, details={'actual_k': 40, 'was_impossible': False}), Prediction(uid=165, iid=2, r_ui=0.0, est=0.014591560769831258, details={'actual_k': 40, 'was_impossible': False}), Prediction(uid=54, iid=4, r_ui=0.03791469194312791, est=0.050923692538221932, details={'actual_k': 40, 'was_impossible': False}), Prediction(uid=133, iid=2, r_ui=0.007092198581560183, est=0.0092276344804751442, details={'actual_k': 40, 'was_impossible': False}), Prediction(uid=219, iid=1, r_ui=0.018957345971563955, est=0.020009789734649175, details={'actual_k': 40, 'was_impossible': False}), Prediction(uid=54, iid=1, r_ui=0.01298701298701288, est=0.031971265052968434, details={'actual_k': 40, 'was_impossible': False}), Prediction(uid=157, iid=1, r_ui=0.0, est=0.001598077143685428, details={'actual_k': 40, 'was_impossible': False}), Prediction(uid=166, iid=2, r_ui=0.0, est=0.020518028848075076, details={'actual_k': 40, 'was_impossible': False}), Prediction(uid=151, iid=5, r_ui=0.0, est=0.0077198164786409507, details={'actual_k': 40, 'was_impossible': False}), Prediction(uid=38, iid=3, r_ui=0.023668639053254337, est=0.031122117210001354, details={'actual_k': 40, 'was_impossible': False}), Prediction(uid=233, iid=2, r_ui=0.0, est=0.00030650608963855852, details={'actual_k': 40, 'was_impossible': False}), Prediction(uid=53, iid=1, r_ui=0.0, est=0.027390364676482815, details={'actual_k': 40, 'was_impossible': False}), Prediction(uid=183, iid=5, r_ui=0.027027027027026973, est=0.006367571934242422, details={'actual_k': 40, 'was_impossible': False}), Prediction(uid=196, iid=3, r_ui=0.00591715976331364, est=0.0089646982432185496, details={'actual_k': 40, 'was_impossible': False}), Prediction(uid=155, iid=6, r_ui=0.029126213592232997, est=0.020156839695270046, details={'actual_k': 40, 'was_impossible': False}), Prediction(uid=12, iid=0, r_ui=0.0, est=0.019624399039687157, details={'actual_k': 40, 'was_impossible': False}), Prediction(uid=194, iid=1, r_ui=0.0, est=0.018782314814334233, details={'actual_k': 40, 'was_impossible': False}), Prediction(uid=219, iid=4, r_ui=0.016216216216216273, est=0.029686032734326906, details={'actual_k': 40, 'was_impossible': False}), Prediction(uid=222, iid=2, r_ui=0.0, est=0.003231630472764202, details={'actual_k': 40, 'was_impossible': False}), Prediction(uid=128, iid=2, r_ui=0.014184397163120588, est=0.0091287856869415318, details={'actual_k': 40, 'was_impossible': False}), Prediction(uid=3, iid=2, r_ui=0.028368794326241176, est=0.0094787529894142519, details={'actual_k': 40, 'was_impossible': False}), Prediction(uid=6, iid=3, r_ui=0.09467455621301779, est=0.034318919176536511, details={'actual_k': 40, 'was_impossible': False}), Prediction(uid=119, iid=2, r_ui=0.02127659574468077, est=0.037079537240605864, details={'actual_k': 40, 'was_impossible': False}), Prediction(uid=38, iid=0, r_ui=0.02499999999999991, est=0.015675448142407733, details={'actual_k': 40, 'was_impossible': False}), Prediction(uid=40, iid=3, r_ui=0.047337278106508895, est=0.047686309770448521, details={'actual_k': 40, 'was_impossible': False}), Prediction(uid=121, iid=0, r_ui=0.0, est=0.01091861264975913, details={'actual_k': 40, 'was_impossible': False}), Prediction(uid=100, iid=0, r_ui=0.0, est=0.010013715547943169, details={'actual_k': 40, 'was_impossible': False}), Prediction(uid=45, iid=2, r_ui=0.028368794326241176, est=0.037432419403949035, details={'actual_k': 40, 'was_impossible': False}), Prediction(uid=69, iid=3, r_ui=0.01775147928994092, est=0.039649660165516964, details={'actual_k': 40, 'was_impossible': False}), Prediction(uid=226, iid=0, r_ui=0.021621621621621623, est=0.0088622948104011279, details={'actual_k': 40, 'was_impossible': False}), Prediction(uid=105, iid=6, r_ui=0.024271844660194164, est=0.018443000021911349, details={'actual_k': 40, 'was_impossible': False}), Prediction(uid=219, iid=2, r_ui=0.0, est=0.023702143500861972, details={'actual_k': 40, 'was_impossible': False}), Prediction(uid=18, iid=3, r_ui=0.01183431952662728, est=0.020146447259836942, details={'actual_k': 40, 'was_impossible': False}), Prediction(uid=27, iid=6, r_ui=0.0, est=0.0059135959565741469, details={'actual_k': 40, 'was_impossible': False}), Prediction(uid=194, iid=4, r_ui=0.028436018957346043, est=0.032670026631038906, details={'actual_k': 40, 'was_impossible': False}), Prediction(uid=131, iid=6, r_ui=0.043689320388349495, est=0.015781205670847065, details={'actual_k': 40, 'was_impossible': False}), Prediction(uid=199, iid=4, r_ui=0.009478672985782088, est=0.017285744826458505, details={'actual_k': 40, 'was_impossible': False}), Prediction(uid=162, iid=2, r_ui=0.0, est=0.0058090938473747133, details={'actual_k': 40, 'was_impossible': False}), Prediction(uid=191, iid=1, r_ui=0.0, est=0, details={'actual_k': 40, 'was_impossible': False}), Prediction(uid=139, iid=0, r_ui=0.02499999999999991, est=0.011000541961103005, details={'actual_k': 40, 'was_impossible': False}), Prediction(uid=207, iid=1, r_ui=0.028436018957346043, est=0.018668984846814451, details={'actual_k': 40, 'was_impossible': False}), Prediction(uid=1, iid=1, r_ui=0.0, est=0, details={'actual_k': 40, 'was_impossible': False}), Prediction(uid=158, iid=3, r_ui=0.01183431952662728, est=0.030336142070622962, details={'actual_k': 40, 'was_impossible': False}), Prediction(uid=110, iid=4, r_ui=0.023696682464454888, est=0.0081281138905731076, details={'actual_k': 40, 'was_impossible': False}), Prediction(uid=175, iid=2, r_ui=0.0, est=0.0050176190860911074, details={'actual_k': 40, 'was_impossible': False}), Prediction(uid=27, iid=1, r_ui=0.0, est=0, details={'actual_k': 40, 'was_impossible': False}), Prediction(uid=150, iid=0, r_ui=0.0, est=0.0026159247530617158, details={'actual_k': 40, 'was_impossible': False}), Prediction(uid=94, iid=6, r_ui=0.058252427184465994, est=0.018525584332432565, details={'actual_k': 40, 'was_impossible': False}), Prediction(uid=172, iid=5, r_ui=0.016216216216216273, est=0.009669617247650697, details={'actual_k': 40, 'was_impossible': False}), Prediction(uid=166, iid=4, r_ui=0.023696682464454888, est=0.02399614628684299, details={'actual_k': 40, 'was_impossible': False}), Prediction(uid=182, iid=4, r_ui=0.014218009478673022, est=0.013380337473986037, details={'actual_k': 40, 'was_impossible': False}), Prediction(uid=81, iid=0, r_ui=0.0, est=0.0058542932352365629, details={'actual_k': 40, 'was_impossible': False}), Prediction(uid=205, iid=0, r_ui=0.00591715976331364, est=0.0063659581141504162, details={'actual_k': 40, 'was_impossible': False}), Prediction(uid=16, iid=1, r_ui=0.0, est=0, details={'actual_k': 40, 'was_impossible': False}), Prediction(uid=32, iid=5, r_ui=0.0, est=0.0047818551543208354, details={'actual_k': 40, 'was_impossible': False}), Prediction(uid=100, iid=2, r_ui=0.007092198581560183, est=0.010952625623004142, details={'actual_k': 40, 'was_impossible': False}), Prediction(uid=171, iid=2, r_ui=0.0, est=0, details={'actual_k': 40, 'was_impossible': False}), Prediction(uid=76, iid=6, r_ui=0.004854368932038833, est=0.0044040794228197289, details={'actual_k': 40, 'was_impossible': False}), Prediction(uid=186, iid=6, r_ui=0.024271844660194164, est=0.015961487129568797, details={'actual_k': 40, 'was_impossible': False}), Prediction(uid=104, iid=6, r_ui=0.029126213592232997, est=0.0072645422543644589, details={'actual_k': 40, 'was_impossible': False}), Prediction(uid=60, iid=2, r_ui=0.03546099290780136, est=0.043170435525587081, details={'actual_k': 40, 'was_impossible': False}), Prediction(uid=160, iid=4, r_ui=0.009478672985782088, est=0.011809092316114045, details={'actual_k': 40, 'was_impossible': False}), Prediction(uid=145, iid=3, r_ui=0.023668639053254337, est=0.048127934515810322, details={'actual_k': 40, 'was_impossible': False}), Prediction(uid=161, iid=4, r_ui=0.009478672985782088, est=0.0087707890348394102, details={'actual_k': 40, 'was_impossible': False}), Prediction(uid=85, iid=6, r_ui=0.004854368932038833, est=0.029595375425292225, details={'actual_k': 40, 'was_impossible': False}), Prediction(uid=42, iid=6, r_ui=0.043689320388349495, est=0.02947839525329643, details={'actual_k': 40, 'was_impossible': False}), Prediction(uid=10, iid=2, r_ui=0.028368794326241176, est=0.021604044763813501, details={'actual_k': 40, 'was_impossible': False}), Prediction(uid=183, iid=4, r_ui=0.023696682464454888, est=0.0063808789613777339, details={'actual_k': 40, 'was_impossible': False}), Prediction(uid=83, iid=2, r_ui=0.02127659574468077, est=0.030831840623561257, details={'actual_k': 40, 'was_impossible': False}), Prediction(uid=23, iid=0, r_ui=0.0, est=0.015269007299096193, details={'actual_k': 40, 'was_impossible': False}), Prediction(uid=210, iid=6, r_ui=0.0, est=0.0059135959565741469, details={'actual_k': 40, 'was_impossible': False}), Prediction(uid=102, iid=3, r_ui=0.00591715976331364, est=0.014407451486552203, details={'actual_k': 40, 'was_impossible': False}), Prediction(uid=221, iid=5, r_ui=0.0, est=0.0047818551543208354, details={'actual_k': 40, 'was_impossible': False}), Prediction(uid=230, iid=2, r_ui=0.0, est=0, details={'actual_k': 40, 'was_impossible': False}), Prediction(uid=138, iid=3, r_ui=0.035502958579881616, est=0.023953214807135081, details={'actual_k': 40, 'was_impossible': False}), Prediction(uid=34, iid=0, r_ui=0.0, est=0.005711852505567272, details={'actual_k': 40, 'was_impossible': False}), Prediction(uid=213, iid=0, r_ui=0.09189189189189184, est=0.050612809690458116, details={'actual_k': 40, 'was_impossible': False}), Prediction(uid=52, iid=5, r_ui=0.14054054054054044, est=0.015916566402335297, details={'actual_k': 40, 'was_impossible': False}), Prediction(uid=229, iid=1, r_ui=0.0, est=0, details={'actual_k': 40, 'was_impossible': False}), Prediction(uid=34, iid=6, r_ui=0.009708737864077666, est=0.024719305325785479, details={'actual_k': 40, 'was_impossible': False}), Prediction(uid=21, iid=0, r_ui=0.0, est=0, details={'actual_k': 40, 'was_impossible': False}), Prediction(uid=142, iid=1, r_ui=0.0, est=0.0055356597167539601, details={'actual_k': 40, 'was_impossible': False}), Prediction(uid=16, iid=3, r_ui=0.0, est=0.0042100503751474339, details={'actual_k': 40, 'was_impossible': False}), Prediction(uid=120, iid=1, r_ui=0.025974025974025983, est=0.0067197039610158438, details={'actual_k': 40, 'was_impossible': False}), Prediction(uid=26, iid=2, r_ui=0.0, est=0.0065329011428385542, details={'actual_k': 40, 'was_impossible': False}), Prediction(uid=36, iid=4, r_ui=0.042654028436019065, est=0.050141998982249358, details={'actual_k': 40, 'was_impossible': False}), Prediction(uid=146, iid=5, r_ui=0.016216216216216273, est=0.017525630120512448, details={'actual_k': 40, 'was_impossible': False}), Prediction(uid=151, iid=2, r_ui=0.0, est=0.0047182222318518097, details={'actual_k': 40, 'was_impossible': False}), Prediction(uid=115, iid=4, r_ui=0.018957345971563955, est=0.051318726887795485, details={'actual_k': 40, 'was_impossible': False}), Prediction(uid=119, iid=1, r_ui=0.025974025974025983, est=0.027701699512439504, details={'actual_k': 40, 'was_impossible': False}), Prediction(uid=56, iid=6, r_ui=0.01941747572815533, est=0.047557035468184461, details={'actual_k': 40, 'was_impossible': False}), Prediction(uid=41, iid=3, r_ui=0.00591715976331364, est=0.039741739507262563, details={'actual_k': 40, 'was_impossible': False}), Prediction(uid=40, iid=1, r_ui=0.0, est=0.030956222583795157, details={'actual_k': 40, 'was_impossible': False}), Prediction(uid=146, iid=4, r_ui=0.023696682464454888, est=0.017553639992603287, details={'actual_k': 40, 'was_impossible': False}), Prediction(uid=89, iid=0, r_ui=0.02499999999999991, est=0.035154845849360905, details={'actual_k': 40, 'was_impossible': False}), Prediction(uid=79, iid=4, r_ui=0.009478672985782088, est=0.012376454658291403, details={'actual_k': 40, 'was_impossible': False}), Prediction(uid=107, iid=4, r_ui=0.023696682464454888, est=0.0062493445612343823, details={'actual_k': 40, 'was_impossible': False}), Prediction(uid=158, iid=6, r_ui=0.014563106796116498, est=0.031787423057912711, details={'actual_k': 40, 'was_impossible': False}), Prediction(uid=4, iid=5, r_ui=0.0, est=0.01161035986041048, details={'actual_k': 40, 'was_impossible': False}), Prediction(uid=234, iid=3, r_ui=0.05339805825242716, est=0.027539118673687524, details={'actual_k': 40, 'was_impossible': False}), Prediction(uid=208, iid=5, r_ui=0.0, est=0.020661955022682976, details={'actual_k': 40, 'was_impossible': False}), Prediction(uid=153, iid=0, r_ui=0.0, est=0.0081499999476657425, details={'actual_k': 40, 'was_impossible': False}), Prediction(uid=29, iid=1, r_ui=0.01298701298701288, est=0.0090754144492362077, details={'actual_k': 40, 'was_impossible': False}), Prediction(uid=225, iid=4, r_ui=0.004854368932038833, est=0.017475678345770129, details={'actual_k': 40, 'was_impossible': False}), Prediction(uid=201, iid=0, r_ui=0.0, est=0, details={'actual_k': 40, 'was_impossible': False}), Prediction(uid=128, iid=4, r_ui=0.018957345971563955, est=0.0143559604955108, details={'actual_k': 40, 'was_impossible': False}), Prediction(uid=50, iid=4, r_ui=0.056872037914691864, est=0.082435895798700143, details={'actual_k': 40, 'was_impossible': False}), Prediction(uid=227, iid=1, r_ui=0.0, est=0, details={'actual_k': 40, 'was_impossible': False}), Prediction(uid=49, iid=4, r_ui=0.0, est=0.0060014126292293746, details={'actual_k': 40, 'was_impossible': False}), Prediction(uid=224, iid=6, r_ui=0.0, est=0.0082214727736484861, details={'actual_k': 40, 'was_impossible': False}), Prediction(uid=54, iid=0, r_ui=0.02499999999999991, est=0.027445168683198462, details={'actual_k': 40, 'was_impossible': False}), Prediction(uid=204, iid=2, r_ui=0.0, est=0.0039094071809793185, details={'actual_k': 40, 'was_impossible': False}), Prediction(uid=23, iid=2, r_ui=0.06382978723404253, est=0.020108337143417421, details={'actual_k': 40, 'was_impossible': False}), Prediction(uid=53, iid=0, r_ui=0.0, est=0.023762550880771061, details={'actual_k': 40, 'was_impossible': False}), Prediction(uid=122, iid=4, r_ui=0.028436018957346043, est=0.0079310093836215678, details={'actual_k': 40, 'was_impossible': False}), Prediction(uid=79, iid=0, r_ui=0.0, est=0.004056446761562027, details={'actual_k': 40, 'was_impossible': False}), Prediction(uid=30, iid=2, r_ui=0.0, est=0, details={'actual_k': 40, 'was_impossible': False}), Prediction(uid=169, iid=5, r_ui=0.016216216216216273, est=0.010968618069584712, details={'actual_k': 40, 'was_impossible': False}), Prediction(uid=171, iid=4, r_ui=0.009478672985782088, est=0.0053536079670863934, details={'actual_k': 40, 'was_impossible': False}), Prediction(uid=205, iid=2, r_ui=0.0, est=0.01430577815867462, details={'actual_k': 40, 'was_impossible': False}), Prediction(uid=182, iid=5, r_ui=0.027027027027026973, est=0.013360218712742844, details={'actual_k': 40, 'was_impossible': False}), Prediction(uid=68, iid=2, r_ui=0.0, est=0.0087121618128351841, details={'actual_k': 40, 'was_impossible': False}), Prediction(uid=216, iid=2, r_ui=0.0, est=0.011174996494897727, details={'actual_k': 40, 'was_impossible': False}), Prediction(uid=172, iid=2, r_ui=0.007092198581560183, est=0.0062622462104753307, details={'actual_k': 40, 'was_impossible': False}), Prediction(uid=71, iid=0, r_ui=0.02499999999999991, est=0.016541000921790339, details={'actual_k': 40, 'was_impossible': False}), Prediction(uid=220, iid=5, r_ui=0.03883495145631066, est=0.01338840868025426, details={'actual_k': 40, 'was_impossible': False}), Prediction(uid=94, iid=3, r_ui=0.01183431952662728, est=0.017690139431232099, details={'actual_k': 40, 'was_impossible': False}), Prediction(uid=216, iid=3, r_ui=0.014218009478673022, est=0.013910589330037082, details={'actual_k': 40, 'was_impossible': False}), Prediction(uid=48, iid=1, r_ui=0.0, est=0.010982357157366174, details={'actual_k': 40, 'was_impossible': False}), Prediction(uid=235, iid=4, r_ui=0.0, est=0.010130093542593643, details={'actual_k': 40, 'was_impossible': False}), Prediction(uid=108, iid=5, r_ui=0.010810810810810922, est=0.011165838559925145, details={'actual_k': 40, 'was_impossible': False}), Prediction(uid=156, iid=3, r_ui=0.035502958579881616, est=0.018046139757874613, details={'actual_k': 40, 'was_impossible': False}), Prediction(uid=124, iid=6, r_ui=0.029126213592232997, est=0.020884933310116871, details={'actual_k': 40, 'was_impossible': False}), Prediction(uid=21, iid=4, r_ui=0.0, est=0.0048292647030891978, details={'actual_k': 40, 'was_impossible': False}), Prediction(uid=92, iid=2, r_ui=0.0, est=0, details={'actual_k': 40, 'was_impossible': False}), Prediction(uid=117, iid=2, r_ui=0.02127659574468077, est=0.018981968728198906, details={'actual_k': 40, 'was_impossible': False}), Prediction(uid=223, iid=0, r_ui=0.014184397163120588, est=0, details={'actual_k': 40, 'was_impossible': False}), Prediction(uid=96, iid=5, r_ui=0.048648648648648596, est=0.02591600918335768, details={'actual_k': 40, 'was_impossible': False}), Prediction(uid=88, iid=5, r_ui=0.016216216216216273, est=0.020567111136670535, details={'actual_k': 40, 'was_impossible': False}), Prediction(uid=54, iid=5, r_ui=0.05405405405405417, est=0.050616744524951462, details={'actual_k': 40, 'was_impossible': False}), Prediction(uid=107, iid=6, r_ui=0.03398058252427183, est=0.0065528899077842429, details={'actual_k': 40, 'was_impossible': False}), Prediction(uid=101, iid=3, r_ui=0.023668639053254337, est=0.022435321949669351, details={'actual_k': 40, 'was_impossible': False}), Prediction(uid=208, iid=1, r_ui=0.01298701298701288, est=0.0066333729084449011, details={'actual_k': 40, 'was_impossible': False}), Prediction(uid=85, iid=0, r_ui=0.0, est=0.011804437516988786, details={'actual_k': 40, 'was_impossible': False}), Prediction(uid=178, iid=5, r_ui=0.00540540540540535, est=0.0069278509759447271, details={'actual_k': 40, 'was_impossible': False}), Prediction(uid=215, iid=3, r_ui=0.010810810810810922, est=0.013795481317067537, details={'actual_k': 40, 'was_impossible': False}), Prediction(uid=237, iid=0, r_ui=0.004854368932038833, est=0, details={'actual_k': 40, 'was_impossible': False}), Prediction(uid=25, iid=1, r_ui=0.01298701298701288, est=0.012527515755954344, details={'actual_k': 40, 'was_impossible': False}), Prediction(uid=139, iid=5, r_ui=0.010810810810810922, est=0.022218137315809905, details={'actual_k': 40, 'was_impossible': False}), Prediction(uid=118, iid=1, r_ui=0.01298701298701288, est=0.0038353631270844346, details={'actual_k': 40, 'was_impossible': False}), Prediction(uid=119, iid=5, r_ui=0.027027027027026973, est=0.051049500574663842, details={'actual_k': 40, 'was_impossible': False}), Prediction(uid=100, iid=3, r_ui=0.0, est=0.011707561054909998, details={'actual_k': 40, 'was_impossible': False}), Prediction(uid=175, iid=4, r_ui=0.004739336492890933, est=0.0086871134757091628, details={'actual_k': 40, 'was_impossible': False}), Prediction(uid=232, iid=2, r_ui=0.01183431952662728, est=0.025638220300307379, details={'actual_k': 40, 'was_impossible': False}), Prediction(uid=116, iid=2, r_ui=0.0, est=0, details={'actual_k': 40, 'was_impossible': False}), Prediction(uid=23, iid=5, r_ui=0.021621621621621623, est=0.024605843537590433, details={'actual_k': 40, 'was_impossible': False}), Prediction(uid=231, iid=1, r_ui=0.0, est=0.0089830283428211644, details={'actual_k': 40, 'was_impossible': False}), Prediction(uid=50, iid=1, r_ui=0.01298701298701288, est=0.062653930409615199, details={'actual_k': 40, 'was_impossible': False}), Prediction(uid=84, iid=2, r_ui=0.0, est=0.019581929364393069, details={'actual_k': 40, 'was_impossible': False}), Prediction(uid=122, iid=6, r_ui=0.014563106796116498, est=0.0082089680127626075, details={'actual_k': 40, 'was_impossible': False}), Prediction(uid=206, iid=0, r_ui=0.0, est=0, details={'actual_k': 40, 'was_impossible': False}), Prediction(uid=95, iid=0, r_ui=0.0, est=0.0080131887716539119, details={'actual_k': 40, 'was_impossible': False}), Prediction(uid=140, iid=4, r_ui=0.033175355450236976, est=0.01299103335097751, details={'actual_k': 40, 'was_impossible': False}), Prediction(uid=107, iid=3, r_ui=0.029585798816567976, est=0.0062210275960896677, details={'actual_k': 40, 'was_impossible': False}), Prediction(uid=60, iid=1, r_ui=0.06493506493506485, est=0.036034927089650948, details={'actual_k': 40, 'was_impossible': False}), Prediction(uid=138, iid=0, r_ui=0.0, est=0.01387209022118685, details={'actual_k': 40, 'was_impossible': False}), Prediction(uid=100, iid=4, r_ui=0.0, est=0.011674998465213804, details={'actual_k': 40, 'was_impossible': False}), Prediction(uid=44, iid=0, r_ui=0.0, est=0, details={'actual_k': 40, 'was_impossible': False}), Prediction(uid=81, iid=2, r_ui=0.0, est=0.0094329805701063307, details={'actual_k': 40, 'was_impossible': False}), Prediction(uid=180, iid=4, r_ui=0.023696682464454888, est=0.013028936827968574, details={'actual_k': 40, 'was_impossible': False}), Prediction(uid=119, iid=0, r_ui=0.0, est=0.022780476930675864, details={'actual_k': 40, 'was_impossible': False}), Prediction(uid=75, iid=4, r_ui=0.0, est=0.0048292647030891978, details={'actual_k': 40, 'was_impossible': False}), Prediction(uid=12, iid=1, r_ui=0.03896103896103886, est=0.021712651672972871, details={'actual_k': 40, 'was_impossible': False}), Prediction(uid=142, iid=6, r_ui=0.009708737864077666, est=0.010502091574096317, details={'actual_k': 40, 'was_impossible': False}), Prediction(uid=165, iid=4, r_ui=0.028436018957346043, est=0.020580689376049843, details={'actual_k': 40, 'was_impossible': False}), Prediction(uid=39, iid=6, r_ui=0.009708737864077666, est=0.016984475656586451, details={'actual_k': 40, 'was_impossible': False}), Prediction(uid=52, iid=6, r_ui=0.014563106796116498, est=0.01637130091439265, details={'actual_k': 40, 'was_impossible': False}), Prediction(uid=196, iid=5, r_ui=0.021621621621621623, est=0.0089851383137078411, details={'actual_k': 40, 'was_impossible': False}), Prediction(uid=165, iid=0, r_ui=0.0, est=0.0077948969685828207, details={'actual_k': 40, 'was_impossible': False}), Prediction(uid=114, iid=6, r_ui=0.014563106796116498, est=0.025010209587233323, details={'actual_k': 40, 'was_impossible': False}), Prediction(uid=71, iid=5, r_ui=0.032432432432432545, est=0.027062844458908275, details={'actual_k': 40, 'was_impossible': False}), Prediction(uid=121, iid=2, r_ui=0.03546099290780136, est=0.019902108306146138, details={'actual_k': 40, 'was_impossible': False}), Prediction(uid=81, iid=3, r_ui=0.00591715976331364, est=0.012741922833323649, details={'actual_k': 40, 'was_impossible': False}), Prediction(uid=169, iid=3, r_ui=0.01183431952662728, est=0.010945489679823561, details={'actual_k': 40, 'was_impossible': False}), Prediction(uid=167, iid=1, r_ui=0.01298701298701288, est=0.0038900639021353101, details={'actual_k': 40, 'was_impossible': False}), Prediction(uid=5, iid=6, r_ui=0.029126213592232997, est=0.030756761982228431, details={'actual_k': 40, 'was_impossible': False}), Prediction(uid=193, iid=6, r_ui=0.004854368932038833, est=0.022340865166336155, details={'actual_k': 40, 'was_impossible': False}), Prediction(uid=26, iid=3, r_ui=0.00591715976331364, est=0.010905240665810556, details={'actual_k': 40, 'was_impossible': False}), Prediction(uid=162, iid=6, r_ui=0.014563106796116498, est=0.01069687925520757, details={'actual_k': 40, 'was_impossible': False}), Prediction(uid=4, iid=2, r_ui=0.0, est=0.0043032808164464864, details={'actual_k': 40, 'was_impossible': False}), Prediction(uid=10, iid=3, r_ui=0.029585798816567976, est=0.025222678129570575, details={'actual_k': 40, 'was_impossible': False}), Prediction(uid=97, iid=3, r_ui=0.035502958579881616, est=0.016319872272494651, details={'actual_k': 40, 'was_impossible': False}), Prediction(uid=79, iid=5, r_ui=0.016216216216216273, est=0.011992910615762353, details={'actual_k': 40, 'was_impossible': False}), Prediction(uid=186, iid=1, r_ui=0.0, est=0.0091846812149214418, details={'actual_k': 40, 'was_impossible': False})]\n"
     ]
    },
    {
     "data": {
      "image/png": "[encoded data removed]",
      "text/plain": [
       "<matplotlib.figure.Figure at 0x1112b3438>"
      ]
     },
     "metadata": {},
     "output_type": "display_data"
    }
   ],
   "source": [
    "def percentCorrect(prediction, ground_truth, bound_percent):\n",
    "    in_bound = 0\n",
    "    total_non_zero = 0\n",
    "    for index, x in enumerate(prediction):\n",
    "        if ground_truth[index] != 0:\n",
    "            if (x <= ground_truth[index] * (1 + bound_percent) and x >= ground_truth[index] * (1 - bound_percent)):\n",
    "                in_bound += 1\n",
    "            total_non_zero += 1\n",
    "    return in_bound/total_non_zero\n",
    "\n",
    "rec_df = pd.read_csv('rec-with-percentage-no-dup.csv')\n",
    "rec_df = rec_df.sample(frac=1).reset_index(drop=True)\n",
    "\n",
    "reader = Reader(rating_scale=(0, 1))\n",
    "data = Dataset.load_from_df(rec_df[['user_id', 'reading_id', 'relative_difficulty']], reader)\n",
    "\n",
    "algos = [\n",
    "#     SVD(),\n",
    "#     SVDpp(), \n",
    "#     KNNBasic(), \n",
    "#     KNNWithMeans(), \n",
    "    KNNWithZScore(), \n",
    "#     KNNBaseline(), \n",
    "#     NormalPredictor(), \n",
    "#     BaselineOnly(),\n",
    "#     SlopeOne()\n",
    "    #     CoClustering(), #predict all 0, the RMSE is 0.0252\n",
    "    #     NMF(), #predicts 0 most of the times\n",
    "]\n",
    "\n",
    "algo_names = [\n",
    "#     'SVD',\n",
    "#     'SVDpp', \n",
    "#     'KNNBasic', \n",
    "#     'KNNWithMeans', \n",
    "    'KNNWithZScore'\n",
    "#     'KNNBaseline', \n",
    "#     'NormalPredictor', \n",
    "#     'BaselineOnly',\n",
    "#     'SlopeOne'\n",
    "    #     CoClustering(), #predict all 0, the RMSE is 0.0252\n",
    "    #     NMF(), #predicts 0 most of the times\n",
    "]\n",
    "\n",
    "measures = []\n",
    "for index, algo in enumerate(algos):\n",
    "    trainset, testset = train_test_split(data, test_size=.25)\n",
    "    algo.fit(trainset)\n",
    "    predictions = algo.test(testset)\n",
    "    rmse = accuracy.rmse(predictions)\n",
    "    fcp = accuracy.fcp(predictions)\n",
    "    truth = []\n",
    "    preds = []\n",
    "    truth_count = []\n",
    "    preds_count = []\n",
    "    for i in range(0, len(predictions)):\n",
    "        row = rec_df.loc[(rec_df['user_id'] == predictions[i].uid) & (rec_df['reading_id'] == predictions[i].iid)]\n",
    "        preds_count.append(row.iloc[0]['unique_word_count'] * predictions[i].est)\n",
    "        truth_count.append(row.iloc[0]['unknown_count'])\n",
    "        truth.append(predictions[i].r_ui)\n",
    "        preds.append(predictions[i].est)\n",
    "    r2 = r2_score(preds, truth)\n",
    "    interval5 = \"{0:.2f}%\".format(percentCorrect(truth_count, preds_count, 0.3) * 100)\n",
    "    interval10 = \"{0:.2f}%\".format(percentCorrect(truth_count, preds_count, 0.7) * 100)\n",
    "    print('5 percent interval: ' + str(interval5))\n",
    "    print('10 percent interval: ' + str(interval10))\n",
    "    print(predictions)\n",
    "#     print('coefficient of determination: ' + str(r2))\n",
    "    draw_graph(predictions)\n",
    "    measures.append([algo_names[index], rmse, fcp, interval5, interval10])"
   ]
  },
  {
   "cell_type": "markdown",
   "metadata": {},
   "source": [
    "### Reading-wise => Relative Difficulty"
   ]
  },
  {
   "cell_type": "code",
   "execution_count": null,
   "metadata": {
    "scrolled": true
   },
   "outputs": [],
   "source": [
    "def percentCorrect(prediction, ground_truth, bound):\n",
    "    in_bound = 0\n",
    "    for index, x in enumerate(prediction):\n",
    "        if (x <= ground_truth[index] + bound and x >= ground_truth[index] - bound):\n",
    "            in_bound = in_bound + 1\n",
    "    return in_bound/len(prediction)\n",
    "\n",
    "rec_df = pd.read_csv('rec-with-percentage-no-dup.csv')\n",
    "rec_df = rec_df.sample(frac=1).reset_index(drop=True)\n",
    "\n",
    "reader = Reader(rating_scale=(0, 1))\n",
    "data = Dataset.load_from_df(rec_df[['user_id', 'reading_id', 'relative_difficulty']], reader)\n",
    "\n",
    "algos = [\n",
    "    SVD(),\n",
    "    SVDpp(), \n",
    "    KNNBasic(), \n",
    "    KNNWithMeans(), \n",
    "    KNNWithZScore(), \n",
    "    KNNBaseline(), \n",
    "    NormalPredictor(), \n",
    "    BaselineOnly(),\n",
    "    SlopeOne()\n",
    "    #     CoClustering(), #predict all 0, the RMSE is 0.0252\n",
    "    #     NMF(), #predicts 0 most of the times\n",
    "]\n",
    "\n",
    "algo_names = [\n",
    "    'SVD',\n",
    "    'SVDpp', \n",
    "    'KNNBasic', \n",
    "    'KNNWithMeans', \n",
    "    'KNNWithZScore', \n",
    "    'KNNBaseline', \n",
    "    'NormalPredictor', \n",
    "    'BaselineOnly',\n",
    "    'SlopeOne'\n",
    "    #     CoClustering(), #predict all 0, the RMSE is 0.0252\n",
    "    #     NMF(), #predicts 0 most of the times\n",
    "]\n",
    "\n",
    "measures = []\n",
    "for index, algo in enumerate(algos):\n",
    "    trainset, testset = train_test_split(data, test_size=.25)\n",
    "    algo.fit(trainset)\n",
    "    predictions = algo.test(testset)\n",
    "    rmse = accuracy.rmse(predictions)\n",
    "    fcp = accuracy.fcp(predictions)\n",
    "    truth = []\n",
    "    preds = []\n",
    "    truth_count = []\n",
    "    preds_count = []\n",
    "    for i in range(0, len(predictions)):\n",
    "        row = rec_df.loc[(rec_df['user_id'] == predictions[i].uid) & (rec_df['reading_id'] == predictions[i].iid)]\n",
    "        preds_count.append(row.iloc[0]['unique_word_count'] * predictions[i].est)\n",
    "        truth_count.append(row.iloc[0]['unknown_count'])\n",
    "        truth.append(predictions[i].r_ui)\n",
    "        preds.append(predictions[i].est)\n",
    "    r2 = r2_score(preds, truth)\n",
    "    interval = \"{0:.2f}%\".format(percentCorrect(truth_count, preds_count, 2) * 100)\n",
    "    interval25 = \"{0:.2f}%\".format(percentCorrect(truth_count, preds_count, 2.5) * 100)\n",
    "    print('percent interval: ' + str(interval))\n",
    "#     print('coefficient of determination: ' + str(r2))\n",
    "    draw_graph(predictions)\n",
    "    measures.append([algo_names[index], rmse, fcp, interval, interval25])"
   ]
  },
  {
   "cell_type": "code",
   "execution_count": null,
   "metadata": {},
   "outputs": [],
   "source": [
    "from tabulate import tabulate\n",
    "df = pd.DataFrame(measures, columns=['algo name', 'rmse', 'fcp', 'interval +/- 2', 'interval +/- 2.5'])\n",
    "df = df.sort_values('rmse', ascending=False).reset_index(drop=True)\n",
    "print(tabulate(df[['algo name', 'rmse', 'fcp']], headers='keys', tablefmt='psql'))\n",
    "df = df.sort_values('interval +/- 2', ascending=True).reset_index(drop=True)\n",
    "print(tabulate(df[['algo name', 'interval +/- 2', 'interval +/- 2.5']], headers='keys', tablefmt='psql'))"
   ]
  },
  {
   "cell_type": "markdown",
   "metadata": {},
   "source": [
    "### Reading-wise => Unknown Count"
   ]
  },
  {
   "cell_type": "code",
   "execution_count": null,
   "metadata": {},
   "outputs": [],
   "source": [
    "def percentCorrect(prediction, ground_truth, bound):\n",
    "    in_bound = 0\n",
    "    for index, x in enumerate(prediction):\n",
    "        if (x <= ground_truth[index] + bound and x >= ground_truth[index] - bound):\n",
    "            in_bound = in_bound + 1\n",
    "    return in_bound/len(prediction)\n",
    "\n",
    "rec_df = pd.read_csv('rec-with-percentage-no-dup.csv')\n",
    "rec_df = rec_df.sample(frac=1).reset_index(drop=True)\n",
    "\n",
    "# A reader is still needed but only the rating_scale param is requiered.\n",
    "reader = Reader(rating_scale=(0, 1))\n",
    "\n",
    "# The columns must correspond to user id, item id and ratings (in that order).\n",
    "data = Dataset.load_from_df(rec_df[['user_id', 'reading_id', 'unknown_count']], reader)\n",
    "\n",
    "algos = [\n",
    "    SVD(),\n",
    "    SVDpp(), \n",
    "#     NMF(), #predicts 0 most of the times\n",
    "    KNNBasic(), \n",
    "    KNNWithMeans(), \n",
    "    KNNWithZScore(), \n",
    "    KNNBaseline(), \n",
    "    NormalPredictor(), \n",
    "    BaselineOnly(),\n",
    "#     CoClustering(), #predict all 0, the RMSE is 0.0252\n",
    "    SlopeOne()\n",
    "]\n",
    "\n",
    "for algo in algos:\n",
    "    # We can now use this dataset as we please, e.g. calling cross_validate\n",
    "    trainset, testset = train_test_split(data, test_size=.25)\n",
    "    algo.fit(trainset)\n",
    "    predictions = algo.test(testset)\n",
    "    accuracy.rmse(predictions)\n",
    "    accuracy.fcp(predictions)\n",
    "    truth = []\n",
    "    preds = []\n",
    "    truth_count = []\n",
    "    preds_count = []\n",
    "    for i in range(0, len(predictions)):\n",
    "#         print(predictions[i].r_ui, predictions[i].est)\n",
    "        row = rec_df.loc[(rec_df['user_id'] == predictions[i].uid) & (rec_df['reading_id'] == predictions[i].iid)]\n",
    "        preds_count.append(row.iloc[0]['unique_word_count'] * predictions[i].est)\n",
    "        truth_count.append(row.iloc[0]['unknown_count'])\n",
    "        truth.append(predictions[i].r_ui)\n",
    "        preds.append(predictions[i].est)\n",
    "    r2 = r2_score(preds, truth)\n",
    "    interval = percentCorrect(truth, preds, 2)\n",
    "    print('percent interval: ' + str(interval))\n",
    "#     print('coefficient of determination: ' + str(r2))"
   ]
  },
  {
   "cell_type": "code",
   "execution_count": null,
   "metadata": {},
   "outputs": [],
   "source": [
    "rec_df = pd.read_csv('rec-with-percentage-no-dup.csv')\n",
    "rec_df.sort_values(by=['user_id'])\n",
    "rec_df.head()"
   ]
  },
  {
   "cell_type": "code",
   "execution_count": null,
   "metadata": {},
   "outputs": [],
   "source": [
    "predictions = {\n",
    "    1: [],  # leave 1 out\n",
    "    2: [],  # leave 2 out\n",
    "    3: [],\n",
    "    4: [],\n",
    "    5: [],\n",
    "    6: []\n",
    "}\n",
    "\n",
    "truths = {\n",
    "    1: [],  # leave 1 out\n",
    "    2: [],  # leave 2 out\n",
    "    3: [],\n",
    "    4: [],\n",
    "    5: [],\n",
    "    6: []\n",
    "}\n",
    "\n",
    "\n",
    "def predict(r_id, u_id):\n",
    "    algo = KNNBasic()\n",
    "    train_df = rec_df[(rec_df.reading_id > r_id) | (rec_df.user_id != u_id)]\n",
    "    reader = Reader(rating_scale=(0, 1))\n",
    "    data = Dataset.load_from_df(train_df[['user_id', 'reading_id', 'relative_difficulty']], reader)\n",
    "    train_set = data.build_full_trainset()\n",
    "    algo.fit(train_set)\n",
    "    for i in range(r_id + 1, 7):\n",
    "        r_ui=rec_df[(rec_df.reading_id == i) & (rec_df.user_id == u_id)]\n",
    "        pred = algo.predict(u_id, i, r_ui=r_ui.relative_difficulty.item(), clip=False)\n",
    "        predictions[i].append(pred.est)\n",
    "        truths[i].append(pred.r_ui)\n",
    "\n",
    "max_user_id = rec_df.user_id.max()\n",
    "print(max_user_id)\n",
    "for r_id in range(7):\n",
    "    for u_id in range(max_user_id):\n",
    "        predict(r_id, u_id)"
   ]
  },
  {
   "cell_type": "code",
   "execution_count": null,
   "metadata": {
    "scrolled": true
   },
   "outputs": [],
   "source": [
    "from sklearn.metrics import mean_squared_error\n",
    "from math import sqrt\n",
    "def rmse(prediction, ground_truth):\n",
    "    return sqrt(mean_squared_error(prediction, ground_truth))\n",
    "for i in range(1, 7):\n",
    "    print(len(predictions[i]))\n",
    "    print('RMSE for leave ' + str(i) + ' out: ', rmse(predictions[i], truths[i]))"
   ]
  },
  {
   "cell_type": "code",
   "execution_count": null,
   "metadata": {},
   "outputs": [],
   "source": [
    "df = pd.DataFrame([0.0162, 0.0164, 0.0197, 0.0218, 0.0235, 0.0212], columns=['RMSE'])\n",
    "df.index = ['Leave ' + str(i) + ' out' for i in range(1, 7)]\n",
    "print(tabulate(df, headers='keys', tablefmt='psql'))"
   ]
  },
  {
   "cell_type": "code",
   "execution_count": null,
   "metadata": {},
   "outputs": [],
   "source": [
    "df = pd.DataFrame({\n",
    "    1: 0,\n",
    "    2: 0.028369,\n",
    "    3: 0.011834,\n",
    "    4: 0.066351,\n",
    "    5: 0.024391,\n",
    "    6: 0.030492,\n",
    "    7: -1\n",
    "},index=[0])\n",
    "print(tabulate(df, headers='keys', tablefmt='psql'))"
   ]
  },
  {
   "cell_type": "code",
   "execution_count": null,
   "metadata": {},
   "outputs": [],
   "source": [
    "# from collections import defaultdict\n",
    "# user_ratings = defaultdict(list)\n",
    "# for uid, iid, r_ui, _ in data.raw_ratings:\n",
    "#     user_ratings[uid].append((uid, iid, r_ui, None))\n",
    "from sklearn.model_selection import LeavePOut\n",
    "import numpy as np\n",
    "X = np.ones(4)\n",
    "lpo = LeavePOut(p=2)\n",
    "for train, test in lpo.split(X):\n",
    "     print(\"%s %s\" % (train, test))"
   ]
  },
  {
   "cell_type": "code",
   "execution_count": null,
   "metadata": {
    "collapsed": true
   },
   "outputs": [],
   "source": []
  }
 ],
 "metadata": {
  "kernelspec": {
   "display_name": "Python 3",
   "language": "python",
   "name": "python3"
  },
  "language_info": {
   "codemirror_mode": {
    "name": "ipython",
    "version": 3
   },
   "file_extension": ".py",
   "mimetype": "text/x-python",
   "name": "python",
   "nbconvert_exporter": "python",
   "pygments_lexer": "ipython3",
   "version": "3.6.1"
  }
 },
 "nbformat": 4,
 "nbformat_minor": 2
}
