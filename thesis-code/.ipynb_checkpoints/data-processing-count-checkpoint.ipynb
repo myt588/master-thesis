{
 "cells": [
  {
   "cell_type": "markdown",
   "metadata": {},
   "source": [
    "### Load Libraries"
   ]
  },
  {
   "cell_type": "code",
   "execution_count": null,
   "metadata": {
    "collapsed": true
   },
   "outputs": [],
   "source": [
    "import json\n",
    "import csv\n",
    "from collections import Counter \n",
    "from textstat.textstat import textstat\n",
    "from nltk.tokenize import RegexpTokenizer\n",
    "from nltk.tokenize import sent_tokenize\n",
    "import pandas as pd\n",
    "import numpy as np\n",
    "import matplotlib.pyplot as plt"
   ]
  },
  {
   "cell_type": "markdown",
   "metadata": {},
   "source": [
    "### split readings into sentences"
   ]
  },
  {
   "cell_type": "code",
   "execution_count": null,
   "metadata": {},
   "outputs": [],
   "source": [
    "with open('reading.json') as json_data:\n",
    "    data = json.load(json_data)\n",
    "    \n",
    "label_row = [ 'sentence_id', 'reading_id', 'text', 'flesch_kincaid' ]\n",
    "data_rows = []\n",
    "data_rows.append(label_row)\n",
    "index = 0\n",
    "for reading in data:\n",
    "    sents = sent_tokenize(reading['text'])\n",
    "    for sent in sents:\n",
    "        if sent in ['1.', '2.', '3.', '4.']:\n",
    "            break\n",
    "        sentence_id = index\n",
    "        text = sent\n",
    "        reading_id = reading['_id']\n",
    "        flesch_kincaid = textstat.flesch_reading_ease(text)\n",
    "        data_rows.append([sentence_id, reading_id, text, flesch_kincaid])\n",
    "        index += 1\n",
    "\n",
    "with open(\"sentences.csv\", \"w\") as f:\n",
    "    writer = csv.writer(f)\n",
    "    writer.writerows(data_rows)\n"
   ]
  },
  {
   "cell_type": "markdown",
   "metadata": {},
   "source": [
    "### sentences-wise tap count"
   ]
  },
  {
   "cell_type": "code",
   "execution_count": null,
   "metadata": {},
   "outputs": [],
   "source": [
    "sent_df = pd.read_csv('sentences.csv')\n",
    "\n",
    "with open('data-usable.json') as json_data:\n",
    "    data = json.load(json_data)\n",
    "\n",
    "label_row = [ 'username', 'sentence_id', 'unknown_count' ]\n",
    "data_rows = []\n",
    "data_rows.append(label_row)\n",
    "user_index = 0\n",
    "for user in data['users']:\n",
    "    knowns = []\n",
    "    username = user_index\n",
    "    for performance in user['performances']:\n",
    "        reading_id = performance['performance']['readingId']\n",
    "        for known in performance['knonws']:\n",
    "            knowns.append(known['content'])\n",
    "    \n",
    "    for index, row in sent_df.iterrows():\n",
    "        tokenizer = RegexpTokenizer(r'\\w+')\n",
    "        word_tokens = tokenizer.tokenize(row['text'])\n",
    "        unknown_count = 0\n",
    "        for known in knowns:\n",
    "            if known in word_tokens:\n",
    "                unknown_count += 1\n",
    "        data_rows.append([username, row['sentence_id'], unknown_count])\n",
    "        \n",
    "    user_index += 1\n",
    "    \n",
    "with open(\"sentences-user-actions.csv\", \"w\") as f:\n",
    "    writer = csv.writer(f)\n",
    "    writer.writerows(data_rows)\n",
    "\n",
    "\n"
   ]
  },
  {
   "cell_type": "markdown",
   "metadata": {},
   "source": [
    "### process readings.json"
   ]
  },
  {
   "cell_type": "code",
   "execution_count": null,
   "metadata": {
    "collapsed": true
   },
   "outputs": [],
   "source": [
    "with open('reading.json') as json_data:\n",
    "    data = json.load(json_data)\n",
    "    \n",
    "label_row = [ 'reading_id', 'lexile', 'flesch_kincaid' ]\n",
    "data_rows = []\n",
    "data_rows.append(label_row)\n",
    "for reading in data:\n",
    "    text = reading['text']\n",
    "    reading_id = reading['_id']\n",
    "    lexile_D = reading['lexileDifficulty']\n",
    "    flesch_kincaid = textstat.flesch_reading_ease(text)\n",
    "    data_rows.append([reading_id, lexile_D, flesch_kincaid])\n",
    "\n",
    "with open(\"reading.csv\", \"w\") as f:\n",
    "    writer = csv.writer(f)\n",
    "    writer.writerows(data_rows)\n"
   ]
  },
  {
   "cell_type": "markdown",
   "metadata": {},
   "source": [
    "### process user actions"
   ]
  },
  {
   "cell_type": "code",
   "execution_count": null,
   "metadata": {
    "collapsed": true
   },
   "outputs": [],
   "source": [
    "with open('data-usable.json') as json_data:\n",
    "    data = json.load(json_data)\n",
    "    \n",
    "label_row = [ 'username', 'reading_id', 'performance_id', 'unknown_count' ]\n",
    "data_rows = []\n",
    "data_rows.append(label_row)\n",
    "for user in data['users']:\n",
    "    username = user['user']['username']\n",
    "    for performance in user['performances']:\n",
    "        reading_id = performance['performance']['readingId']\n",
    "        performance_id = performance['performance']['_id']\n",
    "        unknown_count = len(performance['knonws'])\n",
    "        data_row = [username, reading_id, performance_id, unknown_count]\n",
    "        data_rows.append(data_row)\n",
    "\n",
    "with open(\"user-actions.csv\", \"w\") as f:\n",
    "    writer = csv.writer(f)\n",
    "    writer.writerows(data_rows)\n"
   ]
  },
  {
   "cell_type": "markdown",
   "metadata": {},
   "source": [
    "### For recommandation modal"
   ]
  },
  {
   "cell_type": "code",
   "execution_count": null,
   "metadata": {
    "collapsed": true
   },
   "outputs": [],
   "source": [
    "with open('data-usable.json') as json_data:\n",
    "    data = json.load(json_data)\n",
    "    \n",
    "label_row = [ 'user_id', 'reading_id', 'performance_id', 'unknown_count' ]\n",
    "data_rows = []\n",
    "data_rows.append(label_row)\n",
    "for index, user in enumerate(data['users'], start=1):\n",
    "    user_id = index\n",
    "    for index, performance in enumerate(user['performances'], start=1):\n",
    "        reading_id = index\n",
    "        performance_id = performance['performance']['_id']\n",
    "        unknown_count = len(performance['knonws'])\n",
    "        data_row = [user_id, reading_id, performance_id, unknown_count]\n",
    "        data_rows.append(data_row)\n",
    "\n",
    "with open(\"recommandations.csv\", \"w\") as f:\n",
    "    writer = csv.writer(f)\n",
    "    writer.writerows(data_rows)\n"
   ]
  }
 ],
 "metadata": {
  "kernelspec": {
   "display_name": "Python 3",
   "language": "python",
   "name": "python3"
  },
  "language_info": {
   "codemirror_mode": {
    "name": "ipython",
    "version": 3
   },
   "file_extension": ".py",
   "mimetype": "text/x-python",
   "name": "python",
   "nbconvert_exporter": "python",
   "pygments_lexer": "ipython3",
   "version": "3.6.1"
  }
 },
 "nbformat": 4,
 "nbformat_minor": 2
}
