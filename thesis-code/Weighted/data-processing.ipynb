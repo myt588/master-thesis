{
 "cells": [
  {
   "cell_type": "markdown",
   "metadata": {},
   "source": [
    "### Load Libraries"
   ]
  },
  {
   "cell_type": "code",
   "execution_count": 2,
   "metadata": {
    "collapsed": true
   },
   "outputs": [],
   "source": [
    "import json\n",
    "import csv\n",
    "from collections import Counter \n",
    "from textstat.textstat import textstat\n",
    "from nltk.tokenize import RegexpTokenizer\n",
    "from nltk.tokenize import sent_tokenize\n",
    "from nltk.tokenize import word_tokenize\n",
    "from nltk.tokenize import RegexpTokenizer\n",
    "import pandas as pd\n",
    "import numpy as np\n",
    "import matplotlib.pyplot as plt"
   ]
  },
  {
   "cell_type": "markdown",
   "metadata": {},
   "source": [
    "### Reading-wise Relative Difficulty"
   ]
  },
  {
   "cell_type": "code",
   "execution_count": 11,
   "metadata": {},
   "outputs": [
    {
     "name": "stdout",
     "output_type": "stream",
     "text": [
      "done\n"
     ]
    }
   ],
   "source": [
    "tokenizer = RegexpTokenizer(r'\\w+')\n",
    "\n",
    "with open('reading-1.json') as json_data:\n",
    "    data = json.load(json_data)\n",
    "    \n",
    "label_row = [ 'reading_id', 'text', 'flesch_kincaid', 'unique_word_count' ]\n",
    "reading_data = {}\n",
    "for item in data:\n",
    "    unique_word_list = list(map(lambda x: x.lower(), tokenizer.tokenize(item['text'])))\n",
    "    reading = {\n",
    "        'text': item['text'],\n",
    "        'flesch_kincaid': textstat.flesch_reading_ease(item['text']),\n",
    "        'unique_word_count': len(set(unique_word_list))\n",
    "    }\n",
    "    reading_data[item['_id']] = reading\n",
    "reading_data\n",
    "\n",
    "with open('data-usable-1.json') as json_data:\n",
    "    data = json.load(json_data)\n",
    "    \n",
    "label_row = [ 'user_id', 'reading_id', 'performance_id', 'relative_difficulty', 'unknown_count', 'unique_word_count', 'total_count', 'flesch_kincaid' ]\n",
    "data_rows = []\n",
    "data_rows.append(label_row)\n",
    "i = 0\n",
    "total_counts = []\n",
    "for user in data['users']:\n",
    "    user_id = i\n",
    "    i = i + 1\n",
    "    j = 0\n",
    "    total_count = 0\n",
    "    for performance in user['performances']:\n",
    "        reading_id = j\n",
    "        performance_id = performance['performance']['_id']\n",
    "        knowns = list(map(lambda x: x['content'].lower(),  performance['knonws']))\n",
    "        unknown_count = len(list(set(knowns)))\n",
    "        total_count += unknown_count\n",
    "        j = j + 1\n",
    "    total_counts.append(total_count)\n",
    "\n",
    "i = 0 \n",
    "for user in data['users']:\n",
    "    user_id = i\n",
    "    i = i + 1\n",
    "    j = 0\n",
    "    for performance in user['performances']:\n",
    "        reading_id = j\n",
    "        performance_id = performance['performance']['_id']\n",
    "#         unknown_count = len(performance['knonws'])\n",
    "        knowns = list(map(lambda x: x['content'].lower(),  performance['knonws']))\n",
    "        unknown_count = len(list(set(knowns)))\n",
    "        unique_word_count = reading_data[performance['performance']['readingId']]['unique_word_count']\n",
    "        difficulty = reading_data[performance['performance']['readingId']]['flesch_kincaid']\n",
    "        relative_difficulty = unknown_count/unique_word_count\n",
    "        data_row = [user_id, reading_id, performance_id, relative_difficulty, unknown_count, unique_word_count, total_counts[user_id], difficulty]\n",
    "        data_rows.append(data_row)\n",
    "        j = j + 1\n",
    "\n",
    "with open(\"rec-with-percentage-no-dup.csv\", \"w\") as f:\n",
    "    writer = csv.writer(f)\n",
    "    writer.writerows(data_rows)\n",
    "    print('done')\n"
   ]
  },
  {
   "cell_type": "code",
   "execution_count": null,
   "metadata": {
    "collapsed": true
   },
   "outputs": [],
   "source": [
    "from pymongo import MongoClient\n",
    "from bson.json_util import dumps\n",
    "with open('data-usable-1.json') as json_data:\n",
    "    data = json.load(json_data)\n",
    "    \n",
    "client = MongoClient('mongodb://localhost:3001')\n",
    "db = client.meteor\n",
    "\n",
    "_map = {\n",
    "    \"大学学位\": 'bachelor',\n",
    "    \"硕士学位\": 'master',\n",
    "    \"大学未完成\": 'in_college',\n",
    "    \"博士学位\": 'doctor',\n",
    "    \"高中未完成\": 'in_high_school',\n",
    "    \"高中毕业\": 'high_school_grad',\n",
    "    \"高中学位\": 'high_school_grad',\n",
    "    \"专科\": 'skill_school'\n",
    "}\n",
    "\n",
    "label_row = [ 'user_id', 'gender', 'age', 'grade' ]\n",
    "data_rows = []\n",
    "data_rows.append(label_row)\n",
    "for user in data['users']:\n",
    "    user_id = user['user']['_id']\n",
    "    user_local = db.users.find_one({'_id': user_id})\n",
    "    if user_local['profile']['gender'] == '男性':\n",
    "        gender = 'M'\n",
    "    else:\n",
    "        gender = 'F'\n",
    "    age = user_local['profile']['age'][:-2]\n",
    "    grade = _map[user_local['profile']['grade']]\n",
    "    data_row = [user_id, gender, age, grade]\n",
    "    data_rows.append(data_row)\n",
    "    \n",
    "with open(\"user_basic_info.csv\", \"w\") as f:\n",
    "    writer = csv.writer(f)\n",
    "    writer.writerows(data_rows)\n",
    "    print('done')"
   ]
  },
  {
   "cell_type": "code",
   "execution_count": null,
   "metadata": {},
   "outputs": [],
   "source": [
    "from pymongo import MongoClient\n",
    "from bson.json_util import dumps\n",
    "with open('data-usable-1.json') as json_data:\n",
    "    data = json.load(json_data)\n",
    "\n",
    "label_row = [ 'user_id', 'reading_id', 'time_length' ]\n",
    "data_rows = []\n",
    "data_rows.append(label_row)\n",
    "for user_data in data['users']:\n",
    "    user_id = user_data['user']['_id']\n",
    "    for performance_data in user_data['performances']:\n",
    "        performance = performance_data['performance']\n",
    "        if 'endTime' in performance and 'startTime' in performance:\n",
    "            diff = performance['endTime'] - performance['startTime']\n",
    "        else:\n",
    "            diff = 829332.0\n",
    "        data_row = [user_id, performance['readingId'], diff]\n",
    "        print(data_row)\n",
    "        data_rows.append(data_row)\n",
    "    \n",
    "with open(\"user_reading_time.csv\", \"w\") as f:\n",
    "    writer = csv.writer(f)\n",
    "    writer.writerows(data_rows)\n",
    "    print('done')"
   ]
  },
  {
   "cell_type": "code",
   "execution_count": 42,
   "metadata": {},
   "outputs": [
    {
     "name": "stdout",
     "output_type": "stream",
     "text": [
      "done\n"
     ]
    }
   ],
   "source": [
    "tokenizer = RegexpTokenizer(r'\\w+')\n",
    "\n",
    "with open('reading-1.json') as json_data:\n",
    "    data = json.load(json_data)\n",
    "    \n",
    "label_row = [ 'reading_id', 'text', 'flesch_kincaid', 'unique_word_count' ]\n",
    "reading_data = {}\n",
    "for item in data:\n",
    "    unique_word_list = list(map(lambda x: x.lower(), tokenizer.tokenize(item['text'])))\n",
    "    reading = {\n",
    "        'text': item['text'],\n",
    "        'flesch_kincaid': textstat.flesch_reading_ease(item['text']),\n",
    "        'unique_word_count': len(set(unique_word_list))\n",
    "    }\n",
    "    reading_data[item['_id']] = reading\n",
    "reading_data\n",
    "\n",
    "with open('rank_user.json') as json_data:\n",
    "    data = json.load(json_data)\n",
    "    \n",
    "label_row = [ 'user_id', 'reading_id', 'performance_id', 'relative_difficulty', 'unknown_count', 'unique_word_count' ]\n",
    "data_rows = []\n",
    "data_rows.append(label_row)\n",
    "i = 0\n",
    "total_counts = []\n",
    "for user in data['users']:\n",
    "    user_id = i\n",
    "    i = i + 1\n",
    "    j = 0\n",
    "    total_count = 0\n",
    "    for performance in user['performances']:\n",
    "        reading_id = j\n",
    "        performance_id = performance['performance']['_id']\n",
    "#         knowns = list(map(lambda x: x['content'].lower(),  performance['knonws']))\n",
    "        knowns = performance['knonws']\n",
    "        unknown_count = len(list(set(knowns)))\n",
    "        total_count += unknown_count\n",
    "        j = j + 1\n",
    "    total_counts.append(total_count)\n",
    "\n",
    "i = 0 \n",
    "for user in data['users']:\n",
    "    user_id = i\n",
    "    i = i + 1\n",
    "    j = 0\n",
    "    for performance in user['performances']:\n",
    "        reading_id = j\n",
    "        performance_id = performance['performance']['_id']\n",
    "#         unknown_count = len(performance['knonws'])\n",
    "#         knowns = list(map(lambda x: x['content'].lower(),  performance['knonws']))\n",
    "        knowns = performance['knonws']\n",
    "        unknown_count = len(list(set(knowns)))\n",
    "        unique_word_count = reading_data[performance['performance']['readingId']]['unique_word_count']\n",
    "        difficulty = reading_data[performance['performance']['readingId']]['flesch_kincaid']\n",
    "        relative_difficulty = unknown_count/unique_word_count\n",
    "        data_row = [user_id, reading_id, performance_id, relative_difficulty, unknown_count, unique_word_count, total_counts[user_id], difficulty]\n",
    "        data_rows.append(data_row)\n",
    "        j = j + 1\n",
    "\n",
    "with open(\"test_rank_user.csv\", \"w\") as f:\n",
    "    writer = csv.writer(f)\n",
    "    writer.writerows(data_rows)\n",
    "    print('done')\n"
   ]
  },
  {
   "cell_type": "code",
   "execution_count": null,
   "metadata": {
    "collapsed": true
   },
   "outputs": [],
   "source": []
  }
 ],
 "metadata": {
  "kernelspec": {
   "display_name": "Python 3",
   "language": "python",
   "name": "python3"
  },
  "language_info": {
   "codemirror_mode": {
    "name": "ipython",
    "version": 3
   },
   "file_extension": ".py",
   "mimetype": "text/x-python",
   "name": "python",
   "nbconvert_exporter": "python",
   "pygments_lexer": "ipython3",
   "version": "3.6.1"
  }
 },
 "nbformat": 4,
 "nbformat_minor": 2
}
