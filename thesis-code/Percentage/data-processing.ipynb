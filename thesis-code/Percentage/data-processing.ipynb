{
 "cells": [
  {
   "cell_type": "markdown",
   "metadata": {},
   "source": [
    "### Load Libraries"
   ]
  },
  {
   "cell_type": "code",
   "execution_count": 18,
   "metadata": {
    "collapsed": true
   },
   "outputs": [],
   "source": [
    "import json\n",
    "import csv\n",
    "from collections import Counter \n",
    "from textstat.textstat import textstat\n",
    "from nltk.tokenize import RegexpTokenizer\n",
    "from nltk.tokenize import sent_tokenize\n",
    "from nltk.tokenize import word_tokenize\n",
    "from nltk.tokenize import RegexpTokenizer\n",
    "import pandas as pd\n",
    "import numpy as np\n",
    "import matplotlib.pyplot as plt"
   ]
  },
  {
   "cell_type": "markdown",
   "metadata": {},
   "source": [
    "### Reading-wise Relative Difficulty"
   ]
  },
  {
   "cell_type": "code",
   "execution_count": 20,
   "metadata": {},
   "outputs": [],
   "source": [
    "tokenizer = RegexpTokenizer(r'\\w+')\n",
    "\n",
    "with open('reading-1.json') as json_data:\n",
    "    data = json.load(json_data)\n",
    "    \n",
    "label_row = [ 'reading_id', 'text', 'flesch_kincaid', 'unique_word_count' ]\n",
    "reading_data = {}\n",
    "for item in data:\n",
    "    unique_word_list = list(map(lambda x: x.lower(), tokenizer.tokenize(item['text'])))\n",
    "    reading = {\n",
    "        'text': item['text'],\n",
    "        'flesch_kincaid': textstat.flesch_reading_ease(item['text']),\n",
    "        'unique_word_count': len(set(unique_word_list))\n",
    "    }\n",
    "    reading_data[item['_id']] = reading\n",
    "reading_data\n",
    "\n",
    "with open('data-usable-1.json') as json_data:\n",
    "    data = json.load(json_data)\n",
    "    \n",
    "label_row = [ 'user_id', 'reading_id', 'performance_id', 'relative_difficulty', 'unknown_count', 'unique_word_count' ]\n",
    "data_rows = []\n",
    "data_rows.append(label_row)\n",
    "i = 0\n",
    "for user in data['users']:\n",
    "    user_id = i\n",
    "    i = i + 1\n",
    "    j = 0\n",
    "    for performance in user['performances']:\n",
    "        reading_id = j\n",
    "        performance_id = performance['performance']['_id']\n",
    "#         unknown_count = len(performance['knonws'])\n",
    "        knowns = list(map(lambda x: x['content'].lower(),  performance['knonws']))\n",
    "        unknown_count = len(list(set(knowns)))\n",
    "        unique_word_count = reading_data[performance['performance']['readingId']]['unique_word_count']\n",
    "        relative_difficulty = unknown_count/unique_word_count\n",
    "        data_row = [user_id, reading_id, performance_id, relative_difficulty, unknown_count, unique_word_count]\n",
    "        data_rows.append(data_row)\n",
    "        j = j + 1\n",
    "\n",
    "with open(\"rec-with-percentage-no-dup.csv\", \"w\") as f:\n",
    "    writer = csv.writer(f)\n",
    "    writer.writerows(data_rows)\n"
   ]
  },
  {
   "cell_type": "markdown",
   "metadata": {},
   "source": [
    "### sentences-wise"
   ]
  },
  {
   "cell_type": "code",
   "execution_count": 6,
   "metadata": {
    "collapsed": true
   },
   "outputs": [],
   "source": [
    "sent_df = pd.read_csv('sentences.csv')\n",
    "\n",
    "with open('data-usable-1.json') as json_data:\n",
    "    data = json.load(json_data)\n",
    "\n",
    "label_row = [ 'user_id', 'sentence_id', 'unknown_count', 'relative_difficulty', 'unique_word_count' ]\n",
    "data_rows = []\n",
    "data_rows.append(label_row)\n",
    "user_index = 0\n",
    "for user in data['users']:\n",
    "    knowns = []\n",
    "    username = user_index\n",
    "    for performance in user['performances']:\n",
    "        reading_id = performance['performance']['readingId']\n",
    "        for known in performance['knonws']:\n",
    "            knowns.append(known['content'])\n",
    "    \n",
    "    for index, row in sent_df.iterrows():\n",
    "        tokenizer = RegexpTokenizer(r'\\w+')\n",
    "        word_tokens = tokenizer.tokenize(row['text'])\n",
    "        unique_word_count = len(word_tokens)\n",
    "        unknown_count = 0\n",
    "        for known in knowns:\n",
    "            if known in word_tokens:\n",
    "                unknown_count += 1\n",
    "        relative_difficulty = unknown_count / unique_word_count\n",
    "        data_rows.append([username, row['sentence_id'], unknown_count, relative_difficulty, unique_word_count])\n",
    "        \n",
    "    user_index += 1\n",
    "    \n",
    "with open(\"sentences-user-actions.csv\", \"w\") as f:\n",
    "    writer = csv.writer(f)\n",
    "    writer.writerows(data_rows)\n"
   ]
  },
  {
   "cell_type": "markdown",
   "metadata": {},
   "source": [
    "### process readings.json"
   ]
  },
  {
   "cell_type": "code",
   "execution_count": null,
   "metadata": {
    "collapsed": true
   },
   "outputs": [],
   "source": [
    "with open('reading.json') as json_data:\n",
    "    data = json.load(json_data)\n",
    "    \n",
    "label_row = [ 'reading_id', 'lexile', 'flesch_kincaid' ]\n",
    "data_rows = []\n",
    "data_rows.append(label_row)\n",
    "for reading in data:\n",
    "    text = reading['text']\n",
    "    reading_id = reading['_id']\n",
    "    lexile_D = reading['lexileDifficulty']\n",
    "    flesch_kincaid = textstat.flesch_reading_ease(text)\n",
    "    data_rows.append([reading_id, lexile_D, flesch_kincaid])\n",
    "\n",
    "# with open(\"reading.csv\", \"w\") as f:\n",
    "#     writer = csv.writer(f)\n",
    "#     writer.writerows(data_rows)\n"
   ]
  },
  {
   "cell_type": "markdown",
   "metadata": {},
   "source": [
    "### process user actions"
   ]
  },
  {
   "cell_type": "code",
   "execution_count": null,
   "metadata": {
    "collapsed": true
   },
   "outputs": [],
   "source": [
    "with open('data-usable.json') as json_data:\n",
    "    data = json.load(json_data)\n",
    "    \n",
    "label_row = [ 'username', 'reading_id', 'performance_id', 'unknown_count' ]\n",
    "data_rows = []\n",
    "data_rows.append(label_row)\n",
    "for user in data['users']:\n",
    "    username = user['user']['username']\n",
    "    for performance in user['performances']:\n",
    "        reading_id = performance['performance']['readingId']\n",
    "        performance_id = performance['performance']['_id']\n",
    "        unknown_count = len(performance['knonws'])\n",
    "        data_row = [username, reading_id, performance_id, unknown_count]\n",
    "        data_rows.append(data_row)\n",
    "\n",
    "with open(\"user-actions.csv\", \"w\") as f:\n",
    "    writer = csv.writer(f)\n",
    "    writer.writerows(data_rows)\n"
   ]
  },
  {
   "cell_type": "markdown",
   "metadata": {},
   "source": [
    "### For recommandation modal"
   ]
  },
  {
   "cell_type": "code",
   "execution_count": null,
   "metadata": {
    "collapsed": true
   },
   "outputs": [],
   "source": [
    "with open('data-usable.json') as json_data:\n",
    "    data = json.load(json_data)\n",
    "    \n",
    "label_row = [ 'user_id', 'reading_id', 'performance_id', 'unknown_count' ]\n",
    "data_rows = []\n",
    "data_rows.append(label_row)\n",
    "for index, user in enumerate(data['users'], start=1):\n",
    "    user_id = index\n",
    "    for index, performance in enumerate(user['performances'], start=1):\n",
    "        reading_id = index\n",
    "        performance_id = performance['performance']['_id']\n",
    "        unknown_count = len(performance['knonws'])\n",
    "        data_row = [user_id, reading_id, performance_id, unknown_count]\n",
    "        data_rows.append(data_row)\n",
    "data_rows\n",
    "\n",
    "# with open(\"recommandations.csv\", \"w\") as f:\n",
    "#     writer = csv.writer(f)\n",
    "#     writer.writerows(data_rows)\n"
   ]
  },
  {
   "cell_type": "code",
   "execution_count": null,
   "metadata": {
    "collapsed": true
   },
   "outputs": [],
   "source": []
  }
 ],
 "metadata": {
  "kernelspec": {
   "display_name": "Python 3",
   "language": "python",
   "name": "python3"
  },
  "language_info": {
   "codemirror_mode": {
    "name": "ipython",
    "version": 3
   },
   "file_extension": ".py",
   "mimetype": "text/x-python",
   "name": "python",
   "nbconvert_exporter": "python",
   "pygments_lexer": "ipython3",
   "version": "3.6.1"
  }
 },
 "nbformat": 4,
 "nbformat_minor": 2
}
