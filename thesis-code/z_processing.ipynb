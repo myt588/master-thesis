{
 "cells": [
  {
   "cell_type": "markdown",
   "metadata": {},
   "source": [
    "### Load Libraries"
   ]
  },
  {
   "cell_type": "code",
   "execution_count": 1,
   "metadata": {
    "collapsed": true
   },
   "outputs": [],
   "source": [
    "import json\n",
    "import csv\n",
    "from collections import Counter \n",
    "from textstat.textstat import textstat\n",
    "from nltk.tokenize import RegexpTokenizer\n",
    "from nltk.tokenize import sent_tokenize\n",
    "from nltk.tokenize import word_tokenize\n",
    "from nltk.tokenize import RegexpTokenizer\n",
    "import pandas as pd\n",
    "import numpy as np\n",
    "import matplotlib.pyplot as plt"
   ]
  },
  {
   "cell_type": "markdown",
   "metadata": {},
   "source": [
    "### Reading-wise Relative Difficulty"
   ]
  },
  {
   "cell_type": "code",
   "execution_count": 5,
   "metadata": {},
   "outputs": [
    {
     "name": "stdout",
     "output_type": "stream",
     "text": [
      "done\n"
     ]
    }
   ],
   "source": [
    "tokenizer = RegexpTokenizer(r'\\w+')\n",
    "\n",
    "with open('z_reading_data.json') as json_data:\n",
    "    data = json.load(json_data)\n",
    "    \n",
    "reading_data = {}\n",
    "for item in data:\n",
    "    unique_word_list = list(map(lambda x: x.lower(), tokenizer.tokenize(item['text'])))\n",
    "    reading = {\n",
    "        'text': item['text'],\n",
    "        'flesch_kincaid': textstat.flesch_reading_ease(item['text']),\n",
    "        'unique_word_count': len(set(unique_word_list))\n",
    "    }\n",
    "    reading_data[item['_id']] = reading\n",
    "\n",
    "with open('z_user_data.json') as json_data:\n",
    "    data = json.load(json_data)\n",
    "    \n",
    "label_row = [ 'user_id', 'reading_id', 'relative_difficulty' ]\n",
    "data_rows = []\n",
    "data_rows.append(label_row)\n",
    "i = 0\n",
    "for user in data['users']:\n",
    "    user_id = i\n",
    "    i = i + 1\n",
    "    j = 0\n",
    "    for performance in user['performances']:\n",
    "        reading_id = j\n",
    "        performance_id = performance['performance']['_id']\n",
    "        knowns = performance['knonws']\n",
    "        unknown_count = len(list(set(knowns)))\n",
    "        unique_word_count = reading_data[performance['performance']['readingId']]['unique_word_count']\n",
    "        relative_difficulty = unknown_count/unique_word_count\n",
    "        data_row = [user_id, reading_id, relative_difficulty]\n",
    "        data_rows.append(data_row)\n",
    "        j = j + 1\n",
    "\n",
    "with open(\"z_rec_pred.csv\", \"w\") as f:\n",
    "    writer = csv.writer(f)\n",
    "    writer.writerows(data_rows)\n",
    "    print('done')"
   ]
  },
  {
   "cell_type": "code",
   "execution_count": 3,
   "metadata": {},
   "outputs": [
    {
     "name": "stdout",
     "output_type": "stream",
     "text": [
      "done\n"
     ]
    }
   ],
   "source": [
    "tokenizer = RegexpTokenizer(r'\\w+')\n",
    "\n",
    "with open('z_reading_data.json') as json_data:\n",
    "    data = json.load(json_data)\n",
    "\n",
    "index = 1\n",
    "reading_data = []\n",
    "for item in data:\n",
    "    reading = {}\n",
    "    reading['id'] = index\n",
    "    reading['title'] = item['title']\n",
    "    reading['text'] = item['text']\n",
    "    reading['flesch_kincaid'] = textstat.flesch_reading_ease(item['text'])\n",
    "    reading['lexile_difficulty'] = item['lexileDifficulty']\n",
    "    reading_data.append(reading)\n",
    "     \n",
    "    \n",
    "with open('f_reading_data.json', 'w') as outfile:\n",
    "    json.dump(reading_data, outfile)\n",
    "    print('done')"
   ]
  },
  {
   "cell_type": "code",
   "execution_count": 20,
   "metadata": {},
   "outputs": [
    {
     "name": "stdout",
     "output_type": "stream",
     "text": [
      "done\n"
     ]
    }
   ],
   "source": [
    "tokenizer = RegexpTokenizer(r'\\w+')\n",
    "\n",
    "with open('z_user_data.json') as json_data:\n",
    "    data = json.load(json_data)\n",
    "\n",
    "i = 1\n",
    "user_data = {}\n",
    "user_data['count'] = 249\n",
    "users = []\n",
    "for user in data['users']:\n",
    "    userInfo = {}\n",
    "    user_id = i\n",
    "    i = i + 1\n",
    "    j = 1\n",
    "    user_info = user['user']\n",
    "    userInfo['_id'] = user_id\n",
    "    profile = user_info['profile']\n",
    "    if 'gender' in profile:\n",
    "        userInfo['gender'] = profile['gender']\n",
    "        userInfo['age'] = profile['age']\n",
    "        userInfo['grade'] = profile['grade']\n",
    "    readings = []\n",
    "    for performance in user['performances']:\n",
    "        reading_id = j\n",
    "        reading = {\n",
    "            'readingId': reading_id,\n",
    "            'count': performance['count'],\n",
    "            'unknowns': performance['knonws']\n",
    "        }\n",
    "        readings.append(reading)\n",
    "        j = j + 1\n",
    "    user = {\n",
    "        'user': userInfo,\n",
    "        'count': 7,\n",
    "        'readings': readings\n",
    "    }\n",
    "    users.append(user)\n",
    "user_data['users'] = users\n",
    "    \n",
    "    \n",
    "    \n",
    "    \n",
    "with open('f_user_data.json', 'w') as outfile:\n",
    "    json.dump(user_data, outfile)\n",
    "    print('done')"
   ]
  },
  {
   "cell_type": "code",
   "execution_count": null,
   "metadata": {
    "collapsed": true
   },
   "outputs": [],
   "source": []
  }
 ],
 "metadata": {
  "kernelspec": {
   "display_name": "Python 3",
   "language": "python",
   "name": "python3"
  },
  "language_info": {
   "codemirror_mode": {
    "name": "ipython",
    "version": 3
   },
   "file_extension": ".py",
   "mimetype": "text/x-python",
   "name": "python",
   "nbconvert_exporter": "python",
   "pygments_lexer": "ipython3",
   "version": "3.6.1"
  }
 },
 "nbformat": 4,
 "nbformat_minor": 2
}
