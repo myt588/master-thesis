{
 "cells": [
  {
   "cell_type": "code",
   "execution_count": 26,
   "metadata": {
    "collapsed": true
   },
   "outputs": [],
   "source": [
    "import pandas as pd\n",
    "import numpy as np\n",
    "import matplotlib.pyplot as plt\n",
    "from sklearn import cross_validation as cv\n",
    "from sklearn.metrics.pairwise import pairwise_distances\n",
    "from sklearn.metrics import r2_score"
   ]
  },
  {
   "cell_type": "code",
   "execution_count": 29,
   "metadata": {
    "scrolled": true
   },
   "outputs": [],
   "source": [
    "rec_df = pd.read_csv('rec-with-percentage-no-dup.csv')\n",
    "rec_df = rec_df.sample(frac=1).reset_index(drop=True)\n",
    "train_data, test_data = cv.train_test_split(rec_df, test_size=0.20)"
   ]
  },
  {
   "cell_type": "code",
   "execution_count": 30,
   "metadata": {},
   "outputs": [
    {
     "name": "stdout",
     "output_type": "stream",
     "text": [
      "Number of users = 239 | Number of readings = 7\n"
     ]
    }
   ],
   "source": [
    "from sklearn import cross_validation as cv\n",
    "from sklearn.metrics.pairwise import pairwise_distances\n",
    "from sklearn.metrics import mean_squared_error\n",
    "from math import sqrt\n",
    "\n",
    "n_users = rec_df.user_id.unique().shape[0]\n",
    "n_items = rec_df.reading_id.unique().shape[0]\n",
    "print('Number of users = ' + str(n_users) + ' | Number of readings = ' + str(n_items))"
   ]
  },
  {
   "cell_type": "code",
   "execution_count": 31,
   "metadata": {},
   "outputs": [
    {
     "data": {
      "image/png": "[encoded data removed]",
      "text/plain": [
       "<matplotlib.figure.Figure at 0x10455c400>"
      ]
     },
     "metadata": {},
     "output_type": "display_data"
    },
    {
     "name": "stdout",
     "output_type": "stream",
     "text": [
      "User-based CF RMSE: 3.2805187310600274\n",
      "Item-based CF RMSE: 3.155562260394428\n",
      "Percent Correct User-based: 0.5642558278541542\n",
      "Percent Correct Item-based: 0.4674237895995218\n",
      "coefficient of determination User-based: -1.38764736472\n",
      "coefficient of determination Item-based: -1.20921838473\n",
      "Full User-based CF RMSE Avg: 3.2805187310600274\n",
      "Full Item-based CF RMSE Avg: 3.155562260394428\n",
      "User-based CF Correct Percent Avg: 0.5642558278541542\n",
      "Item-based CF Correct Percent Avg: 0.4674237895995218\n",
      "User-based coefficient of determination Avg: -1.38764736472\n",
      "Item-based coefficient of determination Avg: -1.20921838473\n"
     ]
    }
   ],
   "source": [
    "def predict(ratings, similarity, type='user'):\n",
    "    if type == 'user':\n",
    "        pred = similarity.dot(ratings) / np.array([np.abs(similarity).sum(axis=1)]).T\n",
    "    elif type == 'item':\n",
    "        pred = ratings.dot(similarity) / np.array([np.abs(similarity).sum(axis=1)])\n",
    "    return pred\n",
    "\n",
    "def rmseWithoutZeors(prediction, ground_truth):\n",
    "    prediction = prediction[np.where(ground_truth >= 0)].flatten()\n",
    "    ground_truth = ground_truth[np.where(ground_truth >= 0)].flatten()\n",
    "    return sqrt(mean_squared_error(prediction, ground_truth))\n",
    "\n",
    "def rmse(prediction, ground_truth):\n",
    "    prediction = prediction.flatten()\n",
    "    ground_truth = ground_truth.flatten()\n",
    "    return sqrt(mean_squared_error(prediction, ground_truth))\n",
    "\n",
    "def coefficient_of_determination(prediction, ground_truth):\n",
    "    prediction = prediction.flatten()\n",
    "    ground_truth = ground_truth.flatten()\n",
    "    return r2_score(ground_truth, prediction)\n",
    "\n",
    "def percentCorrect(prediction, ground_truth, bound):\n",
    "    prediction = prediction[np.where(ground_truth >= 0)].flatten()\n",
    "    ground_truth = ground_truth[np.where(ground_truth >= 0)].flatten()\n",
    "    in_bound = 0\n",
    "    for index, x in enumerate(prediction):\n",
    "        if (x <= ground_truth[index] + bound and x >= ground_truth[index] - bound):\n",
    "            in_bound = in_bound + 1\n",
    "    return in_bound/len(prediction)\n",
    "\n",
    "def normalize_ratings(ratings):\n",
    "    num_movies = ratings.shape[0]\n",
    "    \n",
    "    ratings_mean = np.zeros(shape = (num_movies, 1))\n",
    "    ratings_norm = np.zeros(shape = ratings.shape)\n",
    "    \n",
    "    for i in range(num_movies): \n",
    "        # Get all the indexes where there is a 1\n",
    "        idx = np.where(ratings[i] >= 0)[0]\n",
    "        #  Calculate mean rating of ith movie only from user's that gave a rating\n",
    "        ratings_mean[i] = np.mean(ratings[i, idx])\n",
    "        ratings_norm[i, idx] = ratings[i, idx] - ratings_mean[i]\n",
    "    \n",
    "    return ratings_norm, ratings_mean\n",
    "\n",
    "user_prediction_rmse_sum = 0\n",
    "item_prediction_rmse_sum = 0\n",
    "user_percent_correct_sum = 0\n",
    "item_percent_correct_sum = 0\n",
    "user_coefficient_sum = 0\n",
    "item_coefficient_sum = 0\n",
    "\n",
    "training_repeat = 1\n",
    "for x in range(0, training_repeat):\n",
    "    full_data = np.empty((n_users, n_items))\n",
    "    full_data[:] = 0\n",
    "    for line in rec_df.itertuples():\n",
    "        full_data[line[1]-1, line[2]-1] = line[5]\n",
    "    \n",
    "    train_data, test_data = cv.train_test_split(rec_df, test_size=0.20)\n",
    "    \n",
    "    train_data_matrix = np.empty((n_users, n_items))\n",
    "    train_data_matrix[:] = 0\n",
    "    for line in train_data.itertuples():\n",
    "        train_data_matrix[line[1]-1, line[2]-1] = line[5]\n",
    "\n",
    "    test_data_matrix = np.empty((n_users, n_items))\n",
    "    test_data_matrix[:] = 0\n",
    "    for line in test_data.itertuples():\n",
    "        test_data_matrix[line[1]-1, line[2]-1] = line[5]\n",
    "        \n",
    "    user_ratings, user_ratings_mean = normalize_ratings(train_data_matrix)\n",
    "    item_ratings, item_ratings_mean = normalize_ratings(train_data_matrix.T)\n",
    "    \n",
    "    \n",
    "    user_similarity = pairwise_distances(user_ratings, metric='cosine')\n",
    "    item_similarity = pairwise_distances(item_ratings.T, metric='cosine')\n",
    "\n",
    "    user_prediction = predict(user_ratings, user_similarity, type='user')\n",
    "    item_prediction = predict(item_ratings, item_similarity, type='item')\n",
    "    \n",
    "    user_prediction = user_prediction + user_ratings_mean\n",
    "    item_prediction = item_prediction + item_ratings_mean\n",
    "    \n",
    "    truth = []\n",
    "    user_prediction_arr = []\n",
    "    for (x,y), value in np.ndenumerate(test_data_matrix):\n",
    "        if (value != -1):\n",
    "            truth.append([x, y, value])\n",
    "            user_prediction_arr.append([x, y, user_prediction[x][y]])\n",
    "    # draw graph\n",
    "    truth_df = pd.DataFrame(truth)\n",
    "    user_prediction_arr_df = pd.DataFrame(user_prediction_arr)\n",
    "    plt.scatter(truth_df.iloc[:,0], truth_df.iloc[:,2])\n",
    "    plt.scatter(user_prediction_arr_df.iloc[:,0], user_prediction_arr_df.iloc[:,2], c='red')\n",
    "    plt.xlabel('user index')\n",
    "    plt.ylabel('unknonw words count')\n",
    "    plt.show()\n",
    "    \n",
    "    # evaluation of prediction\n",
    "    user_prediction_rmse = rmse(user_prediction, test_data_matrix)\n",
    "    user_prediction_rmse_sum = user_prediction_rmse_sum + user_prediction_rmse\n",
    "    item_prediction_rmse = rmse(item_prediction.T, test_data_matrix)\n",
    "    item_prediction_rmse_sum = item_prediction_rmse_sum + item_prediction_rmse\n",
    "    print('User-based CF RMSE: ' + str(user_prediction_rmse))\n",
    "    print('Item-based CF RMSE: ' + str(item_prediction_rmse))\n",
    "    \n",
    "    user_percent_correct = percentCorrect(user_prediction, test_data_matrix, 2)\n",
    "    user_percent_correct_sum = user_percent_correct_sum + user_percent_correct\n",
    "    item_percent_correct = percentCorrect(item_prediction.T, test_data_matrix, 2)\n",
    "    item_percent_correct_sum = item_percent_correct_sum + item_percent_correct\n",
    "    print('Percent Correct User-based: ' + str(user_percent_correct))\n",
    "    print('Percent Correct Item-based: ' + str(item_percent_correct))\n",
    "    \n",
    "    user_coefficient = coefficient_of_determination(user_prediction, test_data_matrix)\n",
    "    user_coefficient_sum = user_coefficient_sum + user_coefficient\n",
    "    item_coefficient = coefficient_of_determination(item_prediction.T, test_data_matrix)\n",
    "    item_coefficient_sum = item_coefficient_sum + item_coefficient\n",
    "    print('coefficient of determination User-based: ' + str(user_coefficient))\n",
    "    print('coefficient of determination Item-based: ' + str(item_coefficient))\n",
    "    \n",
    "print('Full User-based CF RMSE Avg: ' + str(user_prediction_rmse_sum/training_repeat))\n",
    "print('Full Item-based CF RMSE Avg: ' + str(item_prediction_rmse_sum/training_repeat))\n",
    "print('User-based CF Correct Percent Avg: ' + str(user_percent_correct_sum/training_repeat))\n",
    "print('Item-based CF Correct Percent Avg: ' + str(item_percent_correct_sum/training_repeat))\n",
    "print('User-based coefficient of determination Avg: ' + str(user_coefficient_sum/training_repeat))\n",
    "print('Item-based coefficient of determination Avg: ' + str(item_coefficient_sum/training_repeat))\n"
   ]
  },
  {
   "cell_type": "code",
   "execution_count": null,
   "metadata": {
    "collapsed": true
   },
   "outputs": [],
   "source": []
  }
 ],
 "metadata": {
  "kernelspec": {
   "display_name": "Python 3",
   "language": "python",
   "name": "python3"
  },
  "language_info": {
   "codemirror_mode": {
    "name": "ipython",
    "version": 3
   },
   "file_extension": ".py",
   "mimetype": "text/x-python",
   "name": "python",
   "nbconvert_exporter": "python",
   "pygments_lexer": "ipython3",
   "version": "3.6.1"
  }
 },
 "nbformat": 4,
 "nbformat_minor": 2
}
